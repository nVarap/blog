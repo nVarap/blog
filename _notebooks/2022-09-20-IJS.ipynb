{
 "cells": [
  {
   "cell_type": "markdown",
   "metadata": {},
   "source": [
    "# Javascript Kernel \n",
    "> Javascript Notebook\n",
    "- toc: true\n",
    "- comments: true\n",
    "- permalink: /Hacks/JS\n",
    "- categories: [Hacks]\n",
    "- tags: [Week 5]\n",
    "- image: images/javascript.png"
   ]
  },
  {
   "cell_type": "code",
   "execution_count": 3,
   "metadata": {},
   "outputs": [
    {
     "name": "stdout",
     "output_type": "stream",
     "text": [
      "hello\n"
     ]
    }
   ],
   "source": [
    "// Run in the jupyter notebook, doesn't run in VSCODE\n",
    "console.log(\"hello\")"
   ]
  },
  {
   "cell_type": "code",
   "execution_count": 4,
   "metadata": {},
   "outputs": [
    {
     "name": "stdout",
     "output_type": "stream",
     "text": [
      "momentous\n"
     ]
    }
   ],
   "source": [
    "hello = function(msg){\n",
    "    console.log(msg);\n",
    "}\n",
    "hello(\"momentous\")"
   ]
  },
  {
   "cell_type": "code",
   "execution_count": null,
   "metadata": {},
   "outputs": [],
   "source": []
  }
 ],
 "metadata": {
  "kernelspec": {
   "display_name": "JavaScript (Node.js)",
   "language": "javascript",
   "name": "javascript"
  },
  "language_info": {
   "file_extension": ".js",
   "mimetype": "application/javascript",
   "name": "javascript",
   "version": "16.17.0"
  },
  "vscode": {
   "interpreter": {
    "hash": "c7c94c0aed833a2414877ef23593eac2030861692aa72c9bb6e8e4336db6fc0c"
   }
  }
 },
 "nbformat": 4,
 "nbformat_minor": 2
}
