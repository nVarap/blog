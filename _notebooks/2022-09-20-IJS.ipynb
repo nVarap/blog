{
 "cells": [
  {
   "cell_type": "markdown",
   "metadata": {},
   "source": [
    "# Javascript Kernel \n",
    "> Javascript Notebook\n",
    "- toc: true\n",
    "- comments: true\n",
    "- permalink: /Hacks/JS\n",
    "- categories: [Hacks]\n",
    "- tags: [Week 5]\n",
    "- image: images/javascript.png"
   ]
  },
  {
   "cell_type": "code",
   "execution_count": null,
   "metadata": {},
   "outputs": [
    {
     "ename": "",
     "evalue": "",
     "output_type": "error",
     "traceback": [
      "\u001b[1;31mFailed to start the Kernel. \n",
      "\u001b[1;31mView Jupyter <a href='command:jupyter.viewOutput'>log</a> for further details."
     ]
    }
   ],
   "source": [
    "console.log(\"hello\");"
   ]
  },
  {
   "cell_type": "code",
   "execution_count": null,
   "metadata": {},
   "outputs": [
    {
     "ename": "",
     "evalue": "",
     "output_type": "error",
     "traceback": [
      "\u001b[1;31mFailed to start the Kernel. \n",
      "\u001b[1;31mView Jupyter <a href='command:jupyter.viewOutput'>log</a> for further details."
     ]
    }
   ],
   "source": [
    "function work(msg){\n",
    " console.log(msg);   \n",
    "}"
   ]
  },
  {
   "cell_type": "markdown",
   "metadata": {},
   "source": [
    "![]({{site.baseurl}}/images/jsimaginebro.png \"A goose of mine\")"
   ]
  }
 ],
 "metadata": {
  "kernelspec": {
   "display_name": "JavaScript (Node.js)",
   "language": "javascript",
   "name": "javascript"
  },
  "language_info": {
   "file_extension": ".js",
   "mimetype": "application/javascript",
   "name": "javascript",
   "version": "16.17.0"
  },
  "vscode": {
   "interpreter": {
    "hash": "c7c94c0aed833a2414877ef23593eac2030861692aa72c9bb6e8e4336db6fc0c"
   }
  }
 },
 "nbformat": 4,
 "nbformat_minor": 2
}
