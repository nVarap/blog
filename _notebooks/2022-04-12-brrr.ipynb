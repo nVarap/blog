{
 "cells": [
  {
   "cell_type": "markdown",
   "metadata": {},
   "source": [
    "# Pillow Extra stuff\n",
    "> Pillow Extra stuff\n",
    "- toc: true\n",
    "- comments: true\n",
    "- permalink: /Hacks/algHacks\n",
    "- categories: [Hacks]\n",
    "- tags: [Week 15]\n",
    "- image: images/pythonlogo.png"
   ]
  },
  {
   "cell_type": "code",
   "execution_count": 1,
   "metadata": {},
   "outputs": [
    {
     "data": {
      "image/png": "[encoded data removed]",
      "text/plain": [
       "<PIL.Image.Image image mode=RGB size=100x50>"
      ]
     },
     "metadata": {},
     "output_type": "display_data"
    }
   ],
   "source": [
    "import PIL\n",
    "from PIL import Image\n",
    "\n",
    "\n",
    "data = [[1,0,1,0], [0, 1, 0 , 1]] # Right now this will print out an error image, meaning there is an error \n",
    "# in the array, using trial and error (and knowing you'll be using nested loops)\n",
    "# try to get the above design,\n",
    "\n",
    "def all_same(TwoDMatrix):\n",
    "    try:\n",
    "        constant = len(TwoDMatrix[0])\n",
    "        for array in TwoDMatrix:\n",
    "            if len(array) != constant:\n",
    "                return False\n",
    "    except:\n",
    "        return False\n",
    "    return True\n",
    "\n",
    "def generate_from_array(TwoDMatrix, pixel=100):\n",
    "    if all_same(TwoDMatrix):\n",
    "        height = len(TwoDMatrix)\n",
    "        length = len(TwoDMatrix[0])\n",
    "        paste_img = Image.new('RGB',(pixel, pixel),(255,0,0))\n",
    "    else:\n",
    "        return Image.open(\"../images/err.png\")\n",
    "    contact_sheet=PIL.Image.new('RGB', (pixel*length, pixel*height))\n",
    "    box_Coord = [0, 0]\n",
    "    for array in TwoDMatrix:\n",
    "        for bin in array:\n",
    "            if bin == 1:\n",
    "                contact_sheet.paste(paste_img, (box_Coord[0],  box_Coord[1]) )\n",
    "            else:\n",
    "                pass\n",
    "            if box_Coord[0] + pixel > contact_sheet.width-pixel:\n",
    "                box_Coord[0] = 0\n",
    "                box_Coord[1] += pixel\n",
    "            else:\n",
    "                box_Coord[0] += pixel\n",
    "    return contact_sheet\n",
    "\n",
    "sheet = generate_from_array(data, pixel=25)\n",
    "display(sheet)"
   ]
  }
 ],
 "metadata": {
  "kernelspec": {
   "display_name": "Python 3.10.7 64-bit",
   "language": "python",
   "name": "python3"
  },
  "language_info": {
   "codemirror_mode": {
    "name": "ipython",
    "version": 3
   },
   "file_extension": ".py",
   "mimetype": "text/x-python",
   "name": "python",
   "nbconvert_exporter": "python",
   "pygments_lexer": "ipython3",
   "version": "3.10.7 (v3.10.7:6cc6b13308, Sep  5 2022, 14:02:52) [Clang 13.0.0 (clang-1300.0.29.30)]"
  },
  "orig_nbformat": 4,
  "vscode": {
   "interpreter": {
    "hash": "aee8b7b246df8f9039afb4144a1f6fd8d2ca17a180786b69acc140d282b71a49"
   }
  }
 },
 "nbformat": 4,
 "nbformat_minor": 2
}
