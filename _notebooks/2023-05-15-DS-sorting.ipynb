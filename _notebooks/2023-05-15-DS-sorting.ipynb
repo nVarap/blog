{
 "cells": [
  {
   "attachments": {},
   "cell_type": "markdown",
   "metadata": {},
   "source": [
    "# Sorting Algorithms\n",
    "> Working with Data Structures and manipulating data.\n",
    "\n",
    "- toc: true\n",
    "- categories: []\n",
    "- type: pbl\n",
    "- week: 34"
   ]
  },
  {
   "attachments": {},
   "cell_type": "markdown",
   "metadata": {},
   "source": [
    "[wget link](https://raw.githubusercontent.com/nighthawkcoders/APCSP/master/_notebooks/2023-05-15-DS-sorting.ipynb)"
   ]
  },
  {
   "cell_type": "code",
   "execution_count": 3,
   "metadata": {},
   "outputs": [
    {
     "name": "stdout",
     "output_type": "stream",
     "text": [
      "Random List\n",
      "[9, 62, 78, 54, 18, 74, 58, 84, 20, 46]\n"
     ]
    }
   ],
   "source": [
    "import random\n",
    "\n",
    "numbers = []\n",
    "for i in range(10):\n",
    "    numbers.append(random.randint(0,100))\n",
    "print(\"Random List\")\n",
    "print(numbers)"
   ]
  },
  {
   "attachments": {},
   "cell_type": "markdown",
   "metadata": {},
   "source": [
    "# Warm Up\n",
    "\n",
    "> Discuss with a partner... \n",
    "What are some strategies you would use to sort this list? (Don't worry about writing code for now)\n",
    "- ?"
   ]
  },
  {
   "attachments": {},
   "cell_type": "markdown",
   "metadata": {},
   "source": [
    "# Explore\n",
    "\n",
    "Get into groups of 3\n",
    "\n",
    "We will be focusing on 4 algorithms today.\n",
    "\n",
    "We will look at the first one together, Bubble Sort\n",
    "\n",
    "![](images/bubble-sort.png)\n",
    "\n",
    "What is happening with this sort?\n",
    "\n",
    "In your groups you will each choose to be an expert on a sorting algorithm. Merge, Selection, and Insertion.\n",
    "Take about 5 minutes to read about your algorithm (Geek for Geeks linked below) and be ready to explain it to your other group members. \n",
    "\n",
    "[Merge](https://www.geeksforgeeks.org/merge-sort/#)\n",
    "\n",
    "[Selection](https://www.geeksforgeeks.org/selection-sort/)\n",
    "\n",
    "[Insertion](https://www.geeksforgeeks.org/insertion-sort/)"
   ]
  },
  {
   "attachments": {},
   "cell_type": "markdown",
   "metadata": {},
   "source": [
    "## Practice\n",
    "\n",
    "[75, 17, 46, 80, 67, 45, 69, 79, 40, 0]\n",
    "\n",
    "How would you sort this list with... \n",
    "- Bubble Sort\n",
    "- Selection Sort\n",
    "> Explain.\n",
    "\n",
    "[88, 39, 53, 39, 58, 43, 74, 81, 71, 51]\n",
    "\n",
    "How would you sort this list with... \n",
    "- Merge Sort\n",
    "- Insertion Sort\n",
    "> Explain.\n"
   ]
  },
  {
   "attachments": {},
   "cell_type": "markdown",
   "metadata": {},
   "source": [
    "# Sorting Words\n",
    "> Sorting strings works in the same way as integers. Using your expertise algorithm, sort the following list of random words."
   ]
  },
  {
   "cell_type": "code",
   "execution_count": 6,
   "metadata": {},
   "outputs": [
    {
     "name": "stdout",
     "output_type": "stream",
     "text": [
      "Random List\n",
      "['castanet', 'brightwork', 'schreinerize', 'seeingly', 'Trematoda', 'subdate', 'vesiculectomy', 'aramina', 'Muranese', 'unbarbered']\n",
      "New Words for hacks: ['forgedly', 'opiliaceous', 'claudetite', 'unsizable', 'pharos', 'expedientist', 'paradidymis', 'flung', 'semantically', 'applicant', 'epicoeloma', 'omnifidel', 'unexigent', 'wakefulness', 'turbinatoglobose', 'postcentrum', 'enterocinesia', 'premonitor', 'piped', 'aneuploid', 'hydrobromic', 'sophronize', 'monodynamic', 'seismographer', 'sternways', 'quadrantes', 'spirivalve', 'dihexahedron', 'missive', 'coadmiration', 'counterflory', 'promercantile', 'compulsive', 'hirudinean', 'hausen', 'doddery', 'hyalogen', 'unquestionedly', 'predissuade', 'dissheathe', 'unbegirt', 'polytheistic', 'minding', 'asphyxiation', 'compenser', 'unfunctional', 'pruinescence', 'shantytown', 'trowel', 'syncytioma', 'hexylene', 'Balzacian', 'verifiableness', 'tonsurate', 'glozing', 'splatchy', 'Curucaneca', 'runically', 'dubitable', 'geomagnetist', 'hanaper', 'microtomy', 'perifolliculitis', 'precautiousness', 'odso', 'thalamic', 'sievings', 'supermediocre', 'revolvement', 'veretillum', 'anubing', 'number', 'sanidinite', 'uncorruption', 'optime', 'tegua', 'anomalonomy', 'disposition', 'emulsive', 'oscule', 'aspirator', 'branchway', 'Carlisle', 'paganical', 'overflowing', 'middlemanism', 'turriform', 'unmistakableness', 'proclerical', 'oisin', 'shortchanger', 'pistolwise', 'misled', 'nobber', 'cosmogony', 'benzonitrol', 'palikar', 'nonnaturality', 'lynnhaven', 'stiffener']\n"
     ]
    },
    {
     "name": "stderr",
     "output_type": "stream",
     "text": [
      "[nltk_data] Downloading package words to /Users/vn1/nltk_data...\n",
      "[nltk_data]   Package words is already up-to-date!\n"
     ]
    }
   ],
   "source": [
    "import nltk\n",
    "import random\n",
    "\n",
    "nltk.download('words')  # Download the word list (only required once)\n",
    "\n",
    "from nltk.corpus import words\n",
    "\n",
    "english_words = words.words()\n",
    "#print(len(english_words))  # Prints the number of words in the list\n",
    "\n",
    "# You can now use the 'english_words' list in your code\n",
    "\n",
    "words = []\n",
    "for i in range(10):\n",
    "    words.append(english_words[random.randint(0,len(english_words))])\n",
    "print(\"Random List\")\n",
    "print(words)\n",
    "\n",
    "new_words = [english_words[random.randint(0,len(english_words))] for i in range(100)]\n",
    "\n",
    "print(f\"New Words for hacks: {new_words}\")"
   ]
  },
  {
   "attachments": {},
   "cell_type": "markdown",
   "metadata": {},
   "source": [
    "## Discuss \n",
    "Answer the following with your group.\n",
    "\n",
    "- When should you use each algorithm? What makes an algorithm the right choice?\n",
    "- Given the following lists...\n",
    "    - [0, 2, 6, 4, 8, 10]\n",
    "    - [Elephant, Banana, Cat, Dog, Apple]\n",
    "    - [29, 13, 83, 47, 32, 78, 100, 60, 65, 15, 24, 9, 40, 68, 53, 8, 90, 58, 39, 32, 34, 91, 74, 94, 49, 87, 34, 87, 23, 17, 27, 2, 38, 58, 84, 15, 9, 46, 74, 40, 44, 8, 55, 28, 81, 92, 81, 88, 53, 38, 19, 21, 9, 54, 21, 67, 3, 41, 3, 74, 13, 71, 70, 45, 5, 36, 80, 64, 97, 86, 73, 74, 94, 79, 49, 32, 20, 68, 64, 69, 1, 77, 31, 56, 100, 80, 48, 75, 85, 93, 67, 57, 26, 56, 43, 53, 59, 28, 67, 50]\n",
    "Select the algorithm you believe is best for each, explain."
   ]
  },
  {
   "attachments": {},
   "cell_type": "markdown",
   "metadata": {},
   "source": [
    "## HACKS\n",
    "> Provided below is a Bubble Sort Algorithm sorting a list of dictionaries based off of selected key.\n",
    "\n",
    "- Now it's time to do some coding...\n",
    "\n",
    "- Run code and then research and answer these questions...\n",
    "    - Is a list and/or dictionary in python considered a primitive or collection type?  Why?\n",
    "    - Is the list passed into bubble sort \"pass-by-value\" or \"pass-by-reference? Describe why in relation to output.\n",
    "\n",
    "- Implement new cell(s) and/or organize cells to do the following.\n",
    "    - Create your own list\n",
    "    - Use your expertise sorting algorithm (selection, insertion, merge). Note, I got my bubble sort from Geek for Geeks and made modifications. Each student in a group should have a unique algorithm.\n",
    "    - Test your list with my bubble sort\n",
    "    - Test my list with your new sort\n",
    "    - Research analysis on sorting: comparisons, swaps, time.  Build this into your hacks.\n",
    "    - Find a better way to print the data, key first, then other elements in viewable form.\n",
    "\n",
    "Use the code below to help guide your adventure"
   ]
  },
  {
   "cell_type": "code",
   "execution_count": 7,
   "metadata": {},
   "outputs": [
    {
     "name": "stdout",
     "output_type": "stream",
     "text": [
      "[{'name': 'forgedly', 'age': 16, 'city': 'California'}, {'name': 'opiliaceous', 'age': 14, 'city': 'California'}, {'name': 'claudetite', 'age': 20, 'city': 'California'}, {'name': 'unsizable', 'age': 18, 'city': 'California'}, {'name': 'pharos', 'age': 13, 'city': 'California'}, {'name': 'expedientist', 'age': 1, 'city': 'California'}, {'name': 'paradidymis', 'age': 6, 'city': 'California'}, {'name': 'flung', 'age': 1, 'city': 'California'}, {'name': 'semantically', 'age': 8, 'city': 'California'}, {'name': 'applicant', 'age': 4, 'city': 'California'}, {'name': 'epicoeloma', 'age': 11, 'city': 'California'}, {'name': 'omnifidel', 'age': 2, 'city': 'California'}, {'name': 'unexigent', 'age': 3, 'city': 'California'}, {'name': 'wakefulness', 'age': 1, 'city': 'California'}, {'name': 'turbinatoglobose', 'age': 9, 'city': 'California'}, {'name': 'postcentrum', 'age': 16, 'city': 'California'}, {'name': 'enterocinesia', 'age': 5, 'city': 'California'}, {'name': 'premonitor', 'age': 10, 'city': 'California'}, {'name': 'piped', 'age': 1, 'city': 'California'}, {'name': 'aneuploid', 'age': 16, 'city': 'California'}, {'name': 'hydrobromic', 'age': 5, 'city': 'California'}, {'name': 'sophronize', 'age': 2, 'city': 'California'}, {'name': 'monodynamic', 'age': 15, 'city': 'California'}, {'name': 'seismographer', 'age': 16, 'city': 'California'}, {'name': 'sternways', 'age': 7, 'city': 'California'}, {'name': 'quadrantes', 'age': 18, 'city': 'California'}, {'name': 'spirivalve', 'age': 20, 'city': 'California'}, {'name': 'dihexahedron', 'age': 3, 'city': 'California'}, {'name': 'missive', 'age': 6, 'city': 'California'}, {'name': 'coadmiration', 'age': 5, 'city': 'California'}, {'name': 'counterflory', 'age': 12, 'city': 'California'}, {'name': 'promercantile', 'age': 1, 'city': 'California'}, {'name': 'compulsive', 'age': 16, 'city': 'California'}, {'name': 'hirudinean', 'age': 19, 'city': 'California'}, {'name': 'hausen', 'age': 9, 'city': 'California'}, {'name': 'doddery', 'age': 15, 'city': 'California'}, {'name': 'hyalogen', 'age': 6, 'city': 'California'}, {'name': 'unquestionedly', 'age': 3, 'city': 'California'}, {'name': 'predissuade', 'age': 19, 'city': 'California'}, {'name': 'dissheathe', 'age': 11, 'city': 'California'}, {'name': 'unbegirt', 'age': 11, 'city': 'California'}, {'name': 'polytheistic', 'age': 4, 'city': 'California'}, {'name': 'minding', 'age': 5, 'city': 'California'}, {'name': 'asphyxiation', 'age': 6, 'city': 'California'}, {'name': 'compenser', 'age': 18, 'city': 'California'}, {'name': 'unfunctional', 'age': 8, 'city': 'California'}, {'name': 'pruinescence', 'age': 5, 'city': 'California'}, {'name': 'shantytown', 'age': 9, 'city': 'California'}, {'name': 'trowel', 'age': 13, 'city': 'California'}, {'name': 'syncytioma', 'age': 16, 'city': 'California'}, {'name': 'hexylene', 'age': 16, 'city': 'California'}, {'name': 'Balzacian', 'age': 20, 'city': 'California'}, {'name': 'verifiableness', 'age': 15, 'city': 'California'}, {'name': 'tonsurate', 'age': 15, 'city': 'California'}, {'name': 'glozing', 'age': 6, 'city': 'California'}, {'name': 'splatchy', 'age': 18, 'city': 'California'}, {'name': 'Curucaneca', 'age': 5, 'city': 'California'}, {'name': 'runically', 'age': 6, 'city': 'California'}, {'name': 'dubitable', 'age': 3, 'city': 'California'}, {'name': 'geomagnetist', 'age': 19, 'city': 'California'}, {'name': 'hanaper', 'age': 19, 'city': 'California'}, {'name': 'microtomy', 'age': 10, 'city': 'California'}, {'name': 'perifolliculitis', 'age': 9, 'city': 'California'}, {'name': 'precautiousness', 'age': 6, 'city': 'California'}, {'name': 'odso', 'age': 9, 'city': 'California'}, {'name': 'thalamic', 'age': 6, 'city': 'California'}, {'name': 'sievings', 'age': 19, 'city': 'California'}, {'name': 'supermediocre', 'age': 12, 'city': 'California'}, {'name': 'revolvement', 'age': 17, 'city': 'California'}, {'name': 'veretillum', 'age': 18, 'city': 'California'}, {'name': 'anubing', 'age': 17, 'city': 'California'}, {'name': 'number', 'age': 9, 'city': 'California'}, {'name': 'sanidinite', 'age': 10, 'city': 'California'}, {'name': 'uncorruption', 'age': 11, 'city': 'California'}, {'name': 'optime', 'age': 10, 'city': 'California'}, {'name': 'tegua', 'age': 10, 'city': 'California'}, {'name': 'anomalonomy', 'age': 14, 'city': 'California'}, {'name': 'disposition', 'age': 9, 'city': 'California'}, {'name': 'emulsive', 'age': 13, 'city': 'California'}, {'name': 'oscule', 'age': 4, 'city': 'California'}, {'name': 'aspirator', 'age': 20, 'city': 'California'}, {'name': 'branchway', 'age': 11, 'city': 'California'}, {'name': 'Carlisle', 'age': 13, 'city': 'California'}, {'name': 'paganical', 'age': 14, 'city': 'California'}, {'name': 'overflowing', 'age': 3, 'city': 'California'}, {'name': 'middlemanism', 'age': 8, 'city': 'California'}, {'name': 'turriform', 'age': 5, 'city': 'California'}, {'name': 'unmistakableness', 'age': 7, 'city': 'California'}, {'name': 'proclerical', 'age': 9, 'city': 'California'}, {'name': 'oisin', 'age': 17, 'city': 'California'}, {'name': 'shortchanger', 'age': 17, 'city': 'California'}, {'name': 'pistolwise', 'age': 1, 'city': 'California'}, {'name': 'misled', 'age': 7, 'city': 'California'}, {'name': 'nobber', 'age': 15, 'city': 'California'}, {'name': 'cosmogony', 'age': 19, 'city': 'California'}, {'name': 'benzonitrol', 'age': 16, 'city': 'California'}, {'name': 'palikar', 'age': 8, 'city': 'California'}, {'name': 'nonnaturality', 'age': 12, 'city': 'California'}, {'name': 'lynnhaven', 'age': 2, 'city': 'California'}, {'name': 'stiffener', 'age': 12, 'city': 'California'}]\n",
      "Original\n",
      "[{'name': 'Risa', 'age': 18, 'city': 'New York'}, {'name': 'John', 'age': 63, 'city': 'Eugene'}, {'name': 'Shekar', 'age': 18, 'city': 'San Francisco'}, {'name': 'Ryan', 'age': 21, 'city': 'Los Angeles'}]\n",
      "name\n",
      "[{'name': 'John', 'age': 63, 'city': 'Eugene'}, {'name': 'Risa', 'age': 18, 'city': 'New York'}, {'name': 'Ryan', 'age': 21, 'city': 'Los Angeles'}, {'name': 'Shekar', 'age': 18, 'city': 'San Francisco'}]\n",
      "age\n",
      "[{'name': 'Risa', 'age': 18, 'city': 'New York'}, {'name': 'Shekar', 'age': 18, 'city': 'San Francisco'}, {'name': 'Ryan', 'age': 21, 'city': 'Los Angeles'}, {'name': 'John', 'age': 63, 'city': 'Eugene'}]\n",
      "city\n",
      "[{'name': 'John', 'age': 63, 'city': 'Eugene'}, {'name': 'Ryan', 'age': 21, 'city': 'Los Angeles'}, {'name': 'Risa', 'age': 18, 'city': 'New York'}, {'name': 'Shekar', 'age': 18, 'city': 'San Francisco'}]\n",
      "Original\n",
      "[{'name': 'forgedly', 'age': 16, 'city': 'California'}, {'name': 'opiliaceous', 'age': 14, 'city': 'California'}, {'name': 'claudetite', 'age': 20, 'city': 'California'}, {'name': 'unsizable', 'age': 18, 'city': 'California'}, {'name': 'pharos', 'age': 13, 'city': 'California'}, {'name': 'expedientist', 'age': 1, 'city': 'California'}, {'name': 'paradidymis', 'age': 6, 'city': 'California'}, {'name': 'flung', 'age': 1, 'city': 'California'}, {'name': 'semantically', 'age': 8, 'city': 'California'}, {'name': 'applicant', 'age': 4, 'city': 'California'}, {'name': 'epicoeloma', 'age': 11, 'city': 'California'}, {'name': 'omnifidel', 'age': 2, 'city': 'California'}, {'name': 'unexigent', 'age': 3, 'city': 'California'}, {'name': 'wakefulness', 'age': 1, 'city': 'California'}, {'name': 'turbinatoglobose', 'age': 9, 'city': 'California'}, {'name': 'postcentrum', 'age': 16, 'city': 'California'}, {'name': 'enterocinesia', 'age': 5, 'city': 'California'}, {'name': 'premonitor', 'age': 10, 'city': 'California'}, {'name': 'piped', 'age': 1, 'city': 'California'}, {'name': 'aneuploid', 'age': 16, 'city': 'California'}, {'name': 'hydrobromic', 'age': 5, 'city': 'California'}, {'name': 'sophronize', 'age': 2, 'city': 'California'}, {'name': 'monodynamic', 'age': 15, 'city': 'California'}, {'name': 'seismographer', 'age': 16, 'city': 'California'}, {'name': 'sternways', 'age': 7, 'city': 'California'}, {'name': 'quadrantes', 'age': 18, 'city': 'California'}, {'name': 'spirivalve', 'age': 20, 'city': 'California'}, {'name': 'dihexahedron', 'age': 3, 'city': 'California'}, {'name': 'missive', 'age': 6, 'city': 'California'}, {'name': 'coadmiration', 'age': 5, 'city': 'California'}, {'name': 'counterflory', 'age': 12, 'city': 'California'}, {'name': 'promercantile', 'age': 1, 'city': 'California'}, {'name': 'compulsive', 'age': 16, 'city': 'California'}, {'name': 'hirudinean', 'age': 19, 'city': 'California'}, {'name': 'hausen', 'age': 9, 'city': 'California'}, {'name': 'doddery', 'age': 15, 'city': 'California'}, {'name': 'hyalogen', 'age': 6, 'city': 'California'}, {'name': 'unquestionedly', 'age': 3, 'city': 'California'}, {'name': 'predissuade', 'age': 19, 'city': 'California'}, {'name': 'dissheathe', 'age': 11, 'city': 'California'}, {'name': 'unbegirt', 'age': 11, 'city': 'California'}, {'name': 'polytheistic', 'age': 4, 'city': 'California'}, {'name': 'minding', 'age': 5, 'city': 'California'}, {'name': 'asphyxiation', 'age': 6, 'city': 'California'}, {'name': 'compenser', 'age': 18, 'city': 'California'}, {'name': 'unfunctional', 'age': 8, 'city': 'California'}, {'name': 'pruinescence', 'age': 5, 'city': 'California'}, {'name': 'shantytown', 'age': 9, 'city': 'California'}, {'name': 'trowel', 'age': 13, 'city': 'California'}, {'name': 'syncytioma', 'age': 16, 'city': 'California'}, {'name': 'hexylene', 'age': 16, 'city': 'California'}, {'name': 'Balzacian', 'age': 20, 'city': 'California'}, {'name': 'verifiableness', 'age': 15, 'city': 'California'}, {'name': 'tonsurate', 'age': 15, 'city': 'California'}, {'name': 'glozing', 'age': 6, 'city': 'California'}, {'name': 'splatchy', 'age': 18, 'city': 'California'}, {'name': 'Curucaneca', 'age': 5, 'city': 'California'}, {'name': 'runically', 'age': 6, 'city': 'California'}, {'name': 'dubitable', 'age': 3, 'city': 'California'}, {'name': 'geomagnetist', 'age': 19, 'city': 'California'}, {'name': 'hanaper', 'age': 19, 'city': 'California'}, {'name': 'microtomy', 'age': 10, 'city': 'California'}, {'name': 'perifolliculitis', 'age': 9, 'city': 'California'}, {'name': 'precautiousness', 'age': 6, 'city': 'California'}, {'name': 'odso', 'age': 9, 'city': 'California'}, {'name': 'thalamic', 'age': 6, 'city': 'California'}, {'name': 'sievings', 'age': 19, 'city': 'California'}, {'name': 'supermediocre', 'age': 12, 'city': 'California'}, {'name': 'revolvement', 'age': 17, 'city': 'California'}, {'name': 'veretillum', 'age': 18, 'city': 'California'}, {'name': 'anubing', 'age': 17, 'city': 'California'}, {'name': 'number', 'age': 9, 'city': 'California'}, {'name': 'sanidinite', 'age': 10, 'city': 'California'}, {'name': 'uncorruption', 'age': 11, 'city': 'California'}, {'name': 'optime', 'age': 10, 'city': 'California'}, {'name': 'tegua', 'age': 10, 'city': 'California'}, {'name': 'anomalonomy', 'age': 14, 'city': 'California'}, {'name': 'disposition', 'age': 9, 'city': 'California'}, {'name': 'emulsive', 'age': 13, 'city': 'California'}, {'name': 'oscule', 'age': 4, 'city': 'California'}, {'name': 'aspirator', 'age': 20, 'city': 'California'}, {'name': 'branchway', 'age': 11, 'city': 'California'}, {'name': 'Carlisle', 'age': 13, 'city': 'California'}, {'name': 'paganical', 'age': 14, 'city': 'California'}, {'name': 'overflowing', 'age': 3, 'city': 'California'}, {'name': 'middlemanism', 'age': 8, 'city': 'California'}, {'name': 'turriform', 'age': 5, 'city': 'California'}, {'name': 'unmistakableness', 'age': 7, 'city': 'California'}, {'name': 'proclerical', 'age': 9, 'city': 'California'}, {'name': 'oisin', 'age': 17, 'city': 'California'}, {'name': 'shortchanger', 'age': 17, 'city': 'California'}, {'name': 'pistolwise', 'age': 1, 'city': 'California'}, {'name': 'misled', 'age': 7, 'city': 'California'}, {'name': 'nobber', 'age': 15, 'city': 'California'}, {'name': 'cosmogony', 'age': 19, 'city': 'California'}, {'name': 'benzonitrol', 'age': 16, 'city': 'California'}, {'name': 'palikar', 'age': 8, 'city': 'California'}, {'name': 'nonnaturality', 'age': 12, 'city': 'California'}, {'name': 'lynnhaven', 'age': 2, 'city': 'California'}, {'name': 'stiffener', 'age': 12, 'city': 'California'}]\n",
      "name\n",
      "[{'name': 'Balzacian', 'age': 20, 'city': 'California'}, {'name': 'Carlisle', 'age': 13, 'city': 'California'}, {'name': 'Curucaneca', 'age': 5, 'city': 'California'}, {'name': 'aneuploid', 'age': 16, 'city': 'California'}, {'name': 'anomalonomy', 'age': 14, 'city': 'California'}, {'name': 'anubing', 'age': 17, 'city': 'California'}, {'name': 'applicant', 'age': 4, 'city': 'California'}, {'name': 'asphyxiation', 'age': 6, 'city': 'California'}, {'name': 'aspirator', 'age': 20, 'city': 'California'}, {'name': 'benzonitrol', 'age': 16, 'city': 'California'}, {'name': 'branchway', 'age': 11, 'city': 'California'}, {'name': 'claudetite', 'age': 20, 'city': 'California'}, {'name': 'coadmiration', 'age': 5, 'city': 'California'}, {'name': 'compenser', 'age': 18, 'city': 'California'}, {'name': 'compulsive', 'age': 16, 'city': 'California'}, {'name': 'cosmogony', 'age': 19, 'city': 'California'}, {'name': 'counterflory', 'age': 12, 'city': 'California'}, {'name': 'dihexahedron', 'age': 3, 'city': 'California'}, {'name': 'disposition', 'age': 9, 'city': 'California'}, {'name': 'dissheathe', 'age': 11, 'city': 'California'}, {'name': 'doddery', 'age': 15, 'city': 'California'}, {'name': 'dubitable', 'age': 3, 'city': 'California'}, {'name': 'emulsive', 'age': 13, 'city': 'California'}, {'name': 'enterocinesia', 'age': 5, 'city': 'California'}, {'name': 'epicoeloma', 'age': 11, 'city': 'California'}, {'name': 'expedientist', 'age': 1, 'city': 'California'}, {'name': 'flung', 'age': 1, 'city': 'California'}, {'name': 'forgedly', 'age': 16, 'city': 'California'}, {'name': 'geomagnetist', 'age': 19, 'city': 'California'}, {'name': 'glozing', 'age': 6, 'city': 'California'}, {'name': 'hanaper', 'age': 19, 'city': 'California'}, {'name': 'hausen', 'age': 9, 'city': 'California'}, {'name': 'hexylene', 'age': 16, 'city': 'California'}, {'name': 'hirudinean', 'age': 19, 'city': 'California'}, {'name': 'hyalogen', 'age': 6, 'city': 'California'}, {'name': 'hydrobromic', 'age': 5, 'city': 'California'}, {'name': 'lynnhaven', 'age': 2, 'city': 'California'}, {'name': 'microtomy', 'age': 10, 'city': 'California'}, {'name': 'middlemanism', 'age': 8, 'city': 'California'}, {'name': 'minding', 'age': 5, 'city': 'California'}, {'name': 'misled', 'age': 7, 'city': 'California'}, {'name': 'missive', 'age': 6, 'city': 'California'}, {'name': 'monodynamic', 'age': 15, 'city': 'California'}, {'name': 'nobber', 'age': 15, 'city': 'California'}, {'name': 'nonnaturality', 'age': 12, 'city': 'California'}, {'name': 'number', 'age': 9, 'city': 'California'}, {'name': 'odso', 'age': 9, 'city': 'California'}, {'name': 'oisin', 'age': 17, 'city': 'California'}, {'name': 'omnifidel', 'age': 2, 'city': 'California'}, {'name': 'opiliaceous', 'age': 14, 'city': 'California'}, {'name': 'optime', 'age': 10, 'city': 'California'}, {'name': 'oscule', 'age': 4, 'city': 'California'}, {'name': 'overflowing', 'age': 3, 'city': 'California'}, {'name': 'paganical', 'age': 14, 'city': 'California'}, {'name': 'palikar', 'age': 8, 'city': 'California'}, {'name': 'paradidymis', 'age': 6, 'city': 'California'}, {'name': 'perifolliculitis', 'age': 9, 'city': 'California'}, {'name': 'pharos', 'age': 13, 'city': 'California'}, {'name': 'piped', 'age': 1, 'city': 'California'}, {'name': 'pistolwise', 'age': 1, 'city': 'California'}, {'name': 'polytheistic', 'age': 4, 'city': 'California'}, {'name': 'postcentrum', 'age': 16, 'city': 'California'}, {'name': 'precautiousness', 'age': 6, 'city': 'California'}, {'name': 'predissuade', 'age': 19, 'city': 'California'}, {'name': 'premonitor', 'age': 10, 'city': 'California'}, {'name': 'proclerical', 'age': 9, 'city': 'California'}, {'name': 'promercantile', 'age': 1, 'city': 'California'}, {'name': 'pruinescence', 'age': 5, 'city': 'California'}, {'name': 'quadrantes', 'age': 18, 'city': 'California'}, {'name': 'revolvement', 'age': 17, 'city': 'California'}, {'name': 'runically', 'age': 6, 'city': 'California'}, {'name': 'sanidinite', 'age': 10, 'city': 'California'}, {'name': 'seismographer', 'age': 16, 'city': 'California'}, {'name': 'semantically', 'age': 8, 'city': 'California'}, {'name': 'shantytown', 'age': 9, 'city': 'California'}, {'name': 'shortchanger', 'age': 17, 'city': 'California'}, {'name': 'sievings', 'age': 19, 'city': 'California'}, {'name': 'sophronize', 'age': 2, 'city': 'California'}, {'name': 'spirivalve', 'age': 20, 'city': 'California'}, {'name': 'splatchy', 'age': 18, 'city': 'California'}, {'name': 'sternways', 'age': 7, 'city': 'California'}, {'name': 'stiffener', 'age': 12, 'city': 'California'}, {'name': 'supermediocre', 'age': 12, 'city': 'California'}, {'name': 'syncytioma', 'age': 16, 'city': 'California'}, {'name': 'tegua', 'age': 10, 'city': 'California'}, {'name': 'thalamic', 'age': 6, 'city': 'California'}, {'name': 'tonsurate', 'age': 15, 'city': 'California'}, {'name': 'trowel', 'age': 13, 'city': 'California'}, {'name': 'turbinatoglobose', 'age': 9, 'city': 'California'}, {'name': 'turriform', 'age': 5, 'city': 'California'}, {'name': 'unbegirt', 'age': 11, 'city': 'California'}, {'name': 'uncorruption', 'age': 11, 'city': 'California'}, {'name': 'unexigent', 'age': 3, 'city': 'California'}, {'name': 'unfunctional', 'age': 8, 'city': 'California'}, {'name': 'unmistakableness', 'age': 7, 'city': 'California'}, {'name': 'unquestionedly', 'age': 3, 'city': 'California'}, {'name': 'unsizable', 'age': 18, 'city': 'California'}, {'name': 'veretillum', 'age': 18, 'city': 'California'}, {'name': 'verifiableness', 'age': 15, 'city': 'California'}, {'name': 'wakefulness', 'age': 1, 'city': 'California'}]\n",
      "age\n",
      "[{'name': 'expedientist', 'age': 1, 'city': 'California'}, {'name': 'flung', 'age': 1, 'city': 'California'}, {'name': 'piped', 'age': 1, 'city': 'California'}, {'name': 'pistolwise', 'age': 1, 'city': 'California'}, {'name': 'promercantile', 'age': 1, 'city': 'California'}, {'name': 'wakefulness', 'age': 1, 'city': 'California'}, {'name': 'lynnhaven', 'age': 2, 'city': 'California'}, {'name': 'omnifidel', 'age': 2, 'city': 'California'}, {'name': 'sophronize', 'age': 2, 'city': 'California'}, {'name': 'dihexahedron', 'age': 3, 'city': 'California'}, {'name': 'dubitable', 'age': 3, 'city': 'California'}, {'name': 'overflowing', 'age': 3, 'city': 'California'}, {'name': 'unexigent', 'age': 3, 'city': 'California'}, {'name': 'unquestionedly', 'age': 3, 'city': 'California'}, {'name': 'applicant', 'age': 4, 'city': 'California'}, {'name': 'oscule', 'age': 4, 'city': 'California'}, {'name': 'polytheistic', 'age': 4, 'city': 'California'}, {'name': 'Curucaneca', 'age': 5, 'city': 'California'}, {'name': 'coadmiration', 'age': 5, 'city': 'California'}, {'name': 'enterocinesia', 'age': 5, 'city': 'California'}, {'name': 'hydrobromic', 'age': 5, 'city': 'California'}, {'name': 'minding', 'age': 5, 'city': 'California'}, {'name': 'pruinescence', 'age': 5, 'city': 'California'}, {'name': 'turriform', 'age': 5, 'city': 'California'}, {'name': 'asphyxiation', 'age': 6, 'city': 'California'}, {'name': 'glozing', 'age': 6, 'city': 'California'}, {'name': 'hyalogen', 'age': 6, 'city': 'California'}, {'name': 'missive', 'age': 6, 'city': 'California'}, {'name': 'paradidymis', 'age': 6, 'city': 'California'}, {'name': 'precautiousness', 'age': 6, 'city': 'California'}, {'name': 'runically', 'age': 6, 'city': 'California'}, {'name': 'thalamic', 'age': 6, 'city': 'California'}, {'name': 'misled', 'age': 7, 'city': 'California'}, {'name': 'sternways', 'age': 7, 'city': 'California'}, {'name': 'unmistakableness', 'age': 7, 'city': 'California'}, {'name': 'middlemanism', 'age': 8, 'city': 'California'}, {'name': 'palikar', 'age': 8, 'city': 'California'}, {'name': 'semantically', 'age': 8, 'city': 'California'}, {'name': 'unfunctional', 'age': 8, 'city': 'California'}, {'name': 'disposition', 'age': 9, 'city': 'California'}, {'name': 'hausen', 'age': 9, 'city': 'California'}, {'name': 'number', 'age': 9, 'city': 'California'}, {'name': 'odso', 'age': 9, 'city': 'California'}, {'name': 'perifolliculitis', 'age': 9, 'city': 'California'}, {'name': 'proclerical', 'age': 9, 'city': 'California'}, {'name': 'shantytown', 'age': 9, 'city': 'California'}, {'name': 'turbinatoglobose', 'age': 9, 'city': 'California'}, {'name': 'microtomy', 'age': 10, 'city': 'California'}, {'name': 'optime', 'age': 10, 'city': 'California'}, {'name': 'premonitor', 'age': 10, 'city': 'California'}, {'name': 'sanidinite', 'age': 10, 'city': 'California'}, {'name': 'tegua', 'age': 10, 'city': 'California'}, {'name': 'branchway', 'age': 11, 'city': 'California'}, {'name': 'dissheathe', 'age': 11, 'city': 'California'}, {'name': 'epicoeloma', 'age': 11, 'city': 'California'}, {'name': 'unbegirt', 'age': 11, 'city': 'California'}, {'name': 'uncorruption', 'age': 11, 'city': 'California'}, {'name': 'counterflory', 'age': 12, 'city': 'California'}, {'name': 'nonnaturality', 'age': 12, 'city': 'California'}, {'name': 'stiffener', 'age': 12, 'city': 'California'}, {'name': 'supermediocre', 'age': 12, 'city': 'California'}, {'name': 'Carlisle', 'age': 13, 'city': 'California'}, {'name': 'emulsive', 'age': 13, 'city': 'California'}, {'name': 'pharos', 'age': 13, 'city': 'California'}, {'name': 'trowel', 'age': 13, 'city': 'California'}, {'name': 'anomalonomy', 'age': 14, 'city': 'California'}, {'name': 'opiliaceous', 'age': 14, 'city': 'California'}, {'name': 'paganical', 'age': 14, 'city': 'California'}, {'name': 'doddery', 'age': 15, 'city': 'California'}, {'name': 'monodynamic', 'age': 15, 'city': 'California'}, {'name': 'nobber', 'age': 15, 'city': 'California'}, {'name': 'tonsurate', 'age': 15, 'city': 'California'}, {'name': 'verifiableness', 'age': 15, 'city': 'California'}, {'name': 'aneuploid', 'age': 16, 'city': 'California'}, {'name': 'benzonitrol', 'age': 16, 'city': 'California'}, {'name': 'compulsive', 'age': 16, 'city': 'California'}, {'name': 'forgedly', 'age': 16, 'city': 'California'}, {'name': 'hexylene', 'age': 16, 'city': 'California'}, {'name': 'postcentrum', 'age': 16, 'city': 'California'}, {'name': 'seismographer', 'age': 16, 'city': 'California'}, {'name': 'syncytioma', 'age': 16, 'city': 'California'}, {'name': 'anubing', 'age': 17, 'city': 'California'}, {'name': 'oisin', 'age': 17, 'city': 'California'}, {'name': 'revolvement', 'age': 17, 'city': 'California'}, {'name': 'shortchanger', 'age': 17, 'city': 'California'}, {'name': 'compenser', 'age': 18, 'city': 'California'}, {'name': 'quadrantes', 'age': 18, 'city': 'California'}, {'name': 'splatchy', 'age': 18, 'city': 'California'}, {'name': 'unsizable', 'age': 18, 'city': 'California'}, {'name': 'veretillum', 'age': 18, 'city': 'California'}, {'name': 'cosmogony', 'age': 19, 'city': 'California'}, {'name': 'geomagnetist', 'age': 19, 'city': 'California'}, {'name': 'hanaper', 'age': 19, 'city': 'California'}, {'name': 'hirudinean', 'age': 19, 'city': 'California'}, {'name': 'predissuade', 'age': 19, 'city': 'California'}, {'name': 'sievings', 'age': 19, 'city': 'California'}, {'name': 'Balzacian', 'age': 20, 'city': 'California'}, {'name': 'aspirator', 'age': 20, 'city': 'California'}, {'name': 'claudetite', 'age': 20, 'city': 'California'}, {'name': 'spirivalve', 'age': 20, 'city': 'California'}]\n",
      "city\n",
      "[{'name': 'expedientist', 'age': 1, 'city': 'California'}, {'name': 'flung', 'age': 1, 'city': 'California'}, {'name': 'piped', 'age': 1, 'city': 'California'}, {'name': 'pistolwise', 'age': 1, 'city': 'California'}, {'name': 'promercantile', 'age': 1, 'city': 'California'}, {'name': 'wakefulness', 'age': 1, 'city': 'California'}, {'name': 'lynnhaven', 'age': 2, 'city': 'California'}, {'name': 'omnifidel', 'age': 2, 'city': 'California'}, {'name': 'sophronize', 'age': 2, 'city': 'California'}, {'name': 'dihexahedron', 'age': 3, 'city': 'California'}, {'name': 'dubitable', 'age': 3, 'city': 'California'}, {'name': 'overflowing', 'age': 3, 'city': 'California'}, {'name': 'unexigent', 'age': 3, 'city': 'California'}, {'name': 'unquestionedly', 'age': 3, 'city': 'California'}, {'name': 'applicant', 'age': 4, 'city': 'California'}, {'name': 'oscule', 'age': 4, 'city': 'California'}, {'name': 'polytheistic', 'age': 4, 'city': 'California'}, {'name': 'Curucaneca', 'age': 5, 'city': 'California'}, {'name': 'coadmiration', 'age': 5, 'city': 'California'}, {'name': 'enterocinesia', 'age': 5, 'city': 'California'}, {'name': 'hydrobromic', 'age': 5, 'city': 'California'}, {'name': 'minding', 'age': 5, 'city': 'California'}, {'name': 'pruinescence', 'age': 5, 'city': 'California'}, {'name': 'turriform', 'age': 5, 'city': 'California'}, {'name': 'asphyxiation', 'age': 6, 'city': 'California'}, {'name': 'glozing', 'age': 6, 'city': 'California'}, {'name': 'hyalogen', 'age': 6, 'city': 'California'}, {'name': 'missive', 'age': 6, 'city': 'California'}, {'name': 'paradidymis', 'age': 6, 'city': 'California'}, {'name': 'precautiousness', 'age': 6, 'city': 'California'}, {'name': 'runically', 'age': 6, 'city': 'California'}, {'name': 'thalamic', 'age': 6, 'city': 'California'}, {'name': 'misled', 'age': 7, 'city': 'California'}, {'name': 'sternways', 'age': 7, 'city': 'California'}, {'name': 'unmistakableness', 'age': 7, 'city': 'California'}, {'name': 'middlemanism', 'age': 8, 'city': 'California'}, {'name': 'palikar', 'age': 8, 'city': 'California'}, {'name': 'semantically', 'age': 8, 'city': 'California'}, {'name': 'unfunctional', 'age': 8, 'city': 'California'}, {'name': 'disposition', 'age': 9, 'city': 'California'}, {'name': 'hausen', 'age': 9, 'city': 'California'}, {'name': 'number', 'age': 9, 'city': 'California'}, {'name': 'odso', 'age': 9, 'city': 'California'}, {'name': 'perifolliculitis', 'age': 9, 'city': 'California'}, {'name': 'proclerical', 'age': 9, 'city': 'California'}, {'name': 'shantytown', 'age': 9, 'city': 'California'}, {'name': 'turbinatoglobose', 'age': 9, 'city': 'California'}, {'name': 'microtomy', 'age': 10, 'city': 'California'}, {'name': 'optime', 'age': 10, 'city': 'California'}, {'name': 'premonitor', 'age': 10, 'city': 'California'}, {'name': 'sanidinite', 'age': 10, 'city': 'California'}, {'name': 'tegua', 'age': 10, 'city': 'California'}, {'name': 'branchway', 'age': 11, 'city': 'California'}, {'name': 'dissheathe', 'age': 11, 'city': 'California'}, {'name': 'epicoeloma', 'age': 11, 'city': 'California'}, {'name': 'unbegirt', 'age': 11, 'city': 'California'}, {'name': 'uncorruption', 'age': 11, 'city': 'California'}, {'name': 'counterflory', 'age': 12, 'city': 'California'}, {'name': 'nonnaturality', 'age': 12, 'city': 'California'}, {'name': 'stiffener', 'age': 12, 'city': 'California'}, {'name': 'supermediocre', 'age': 12, 'city': 'California'}, {'name': 'Carlisle', 'age': 13, 'city': 'California'}, {'name': 'emulsive', 'age': 13, 'city': 'California'}, {'name': 'pharos', 'age': 13, 'city': 'California'}, {'name': 'trowel', 'age': 13, 'city': 'California'}, {'name': 'anomalonomy', 'age': 14, 'city': 'California'}, {'name': 'opiliaceous', 'age': 14, 'city': 'California'}, {'name': 'paganical', 'age': 14, 'city': 'California'}, {'name': 'doddery', 'age': 15, 'city': 'California'}, {'name': 'monodynamic', 'age': 15, 'city': 'California'}, {'name': 'nobber', 'age': 15, 'city': 'California'}, {'name': 'tonsurate', 'age': 15, 'city': 'California'}, {'name': 'verifiableness', 'age': 15, 'city': 'California'}, {'name': 'aneuploid', 'age': 16, 'city': 'California'}, {'name': 'benzonitrol', 'age': 16, 'city': 'California'}, {'name': 'compulsive', 'age': 16, 'city': 'California'}, {'name': 'forgedly', 'age': 16, 'city': 'California'}, {'name': 'hexylene', 'age': 16, 'city': 'California'}, {'name': 'postcentrum', 'age': 16, 'city': 'California'}, {'name': 'seismographer', 'age': 16, 'city': 'California'}, {'name': 'syncytioma', 'age': 16, 'city': 'California'}, {'name': 'anubing', 'age': 17, 'city': 'California'}, {'name': 'oisin', 'age': 17, 'city': 'California'}, {'name': 'revolvement', 'age': 17, 'city': 'California'}, {'name': 'shortchanger', 'age': 17, 'city': 'California'}, {'name': 'compenser', 'age': 18, 'city': 'California'}, {'name': 'quadrantes', 'age': 18, 'city': 'California'}, {'name': 'splatchy', 'age': 18, 'city': 'California'}, {'name': 'unsizable', 'age': 18, 'city': 'California'}, {'name': 'veretillum', 'age': 18, 'city': 'California'}, {'name': 'cosmogony', 'age': 19, 'city': 'California'}, {'name': 'geomagnetist', 'age': 19, 'city': 'California'}, {'name': 'hanaper', 'age': 19, 'city': 'California'}, {'name': 'hirudinean', 'age': 19, 'city': 'California'}, {'name': 'predissuade', 'age': 19, 'city': 'California'}, {'name': 'sievings', 'age': 19, 'city': 'California'}, {'name': 'Balzacian', 'age': 20, 'city': 'California'}, {'name': 'aspirator', 'age': 20, 'city': 'California'}, {'name': 'claudetite', 'age': 20, 'city': 'California'}, {'name': 'spirivalve', 'age': 20, 'city': 'California'}]\n"
     ]
    }
   ],
   "source": [
    "\"\"\"\n",
    "* Creator: Nighthawk Coding Society\n",
    "Bubble Sort of a List with optimizations\n",
    "\"\"\"\n",
    "\n",
    "\n",
    "\n",
    "# bubble sorts a list of dictionaries, base off of provided key\n",
    "def bubbleSort(list, key):\n",
    "    n = len(list) - 1  # list are indexed 0 to n-1, len is n\n",
    "    \n",
    "    # Traverse through list with i index\n",
    "    for i in range(n):\n",
    "        swapped = False  # optimize code, so it exits if now swaps on inner loop\n",
    "\n",
    "        # Inner traversal using j index\n",
    "        for j in range(n-i):  # n-i as positions on right are in order in bubble\n",
    " \n",
    "            # Swap if the element KeyN is greater KeyN1\n",
    "            keyN = list[j].get(key)\n",
    "            keyN1 = list[j+1].get(key)\n",
    "            if keyN > keyN1:\n",
    "                swapped = True\n",
    "                list[j], list[j + 1] = list[j + 1], list[j]  # single line swap\n",
    "         \n",
    "        if not swapped:  # if no swaps on inner pass, list is sorted\n",
    "            return  # exit function\n",
    "    \n",
    "\n",
    "if __name__ == \"__main__\":\n",
    "    # list/dictionary sample\n",
    "\n",
    "    n_dict = []\n",
    "\n",
    "    for word in new_words:\n",
    "        nn_dict = {\n",
    "            \"name\" : word, \n",
    "                \"age\" : random.randint(1, 20),\n",
    "                \"city\" : \"California\"\n",
    "        }\n",
    "        n_dict.append(nn_dict)\n",
    "    print(n_dict)\n",
    "    \n",
    "\n",
    "    list_of_people = [\n",
    "    {\"name\": \"Risa\", \"age\": 18, \"city\": \"New York\"},\n",
    "    {\"name\": \"John\", \"age\": 63, \"city\": \"Eugene\"},\n",
    "    {\"name\": \"Shekar\", \"age\": 18, \"city\": \"San Francisco\"},\n",
    "    {\"name\": \"Ryan\", \"age\": 21, \"city\": \"Los Angeles\"}\n",
    "    ]\n",
    "    \n",
    "    # assuming uniform keys, pick 1st row as source of keys\n",
    "    key_row = list_of_people[0]\n",
    "    twokey = n_dict[0]\n",
    "\n",
    "    # print list as defined\n",
    "    print(\"Original\")\n",
    "    print(list_of_people)\n",
    "    \n",
    "    for key in key_row:  # finds each key in the row\n",
    "        print(key)\n",
    "        bubbleSort(list_of_people, key)  # sort list of people\n",
    "        print(list_of_people)\n",
    "\n",
    "\n",
    "\n",
    "    # print list as defined\n",
    "    print(\"Original\")\n",
    "    print(n_dict)\n",
    "    \n",
    "    for key in twokey:  # finds each key in the row\n",
    "        print(key)\n",
    "        bubbleSort(n_dict, key)  # sort list of people\n",
    "        print(n_dict)"
   ]
  },
  {
   "cell_type": "code",
   "execution_count": 16,
   "metadata": {},
   "outputs": [
    {
     "name": "stdout",
     "output_type": "stream",
     "text": [
      "Numbers: [4298, 6341, 7389, 5473, 8420, 5339, 4636, 1542, 9992, 2215, 6938, 5004, 3293, 1437, 3865, 5044, 7424, 2616, 8511, 9292]...[2070, 3354, 2316, 2278, 350, 2094, 2350, 2037, 8583, 8615, 7355, 1087, 9761, 9839, 2741, 4328, 4154, 7232, 4794]\n",
      "10000\n",
      "End time for bubble sort 9.79161810874939. Time complexity n^2\n",
      "End time for merge sort 0.04945111274719238, Time Complexity nlogn\n",
      "End time for insertion sort 4.197561025619507. Time complexity n^2\n"
     ]
    }
   ],
   "source": [
    "# Get a bubble, merge, and insertion sort algorithm, run time complexity using time\n",
    "import time\n",
    "import random\n",
    "\n",
    "\n",
    "\n",
    "def bubbleSort(arr):\n",
    "    n = len(arr)\n",
    "    for i in range(n):\n",
    "        for j in range(0, n-i-1):\n",
    "            if arr[j] > arr[j+1]:\n",
    "                arr[j], arr[j+1] = arr[j+1], arr[j]\n",
    " \n",
    "def mergeSort(arr):\n",
    "    if len(arr) > 1:\n",
    "\n",
    "        mid = len(arr)//2 # this is what gives i nLog(n), dividing the elements into two\n",
    "        L = arr[:mid]\n",
    "        R = arr[mid:]\n",
    "\n",
    "        mergeSort(L)\n",
    "        mergeSort(R) # recursion, causes an exponential, but then it becomes log2(2^n), which is just n, and constant divisions result in nlog(n)\n",
    "  \n",
    "        i = j = k = 0\n",
    "        while i < len(L) and j < len(R): # sorting\n",
    "            if L[i] <= R[j]:\n",
    "                arr[k] = L[i]\n",
    "                i += 1\n",
    "            else:\n",
    "                arr[k] = R[j]\n",
    "                j += 1\n",
    "            k += 1\n",
    "        while i < len(L): # sorting\n",
    "            arr[k] = L[i]\n",
    "            i += 1\n",
    "            k += 1\n",
    "  \n",
    "        while j < len(R):\n",
    "            arr[k] = R[j]\n",
    "            j += 1\n",
    "            k += 1\n",
    "\n",
    "def insertionSort(arr):\n",
    "    for i in range(1, len(arr)):\n",
    "        key = arr[i] # get the current element\n",
    "        j = i-1 # get the comparison element\n",
    "        while j >= 0 and key < arr[j] :\n",
    "                arr[j + 1] = arr[j] # checks to see if it is greater than, if so keep\n",
    "                j -= 1 # otherwise move one back\n",
    "        arr[j + 1] = key\n",
    "\n",
    "\n",
    "\n",
    "variability = 10000\n",
    "\n",
    "numbers = [random.randint(1, variability) for i in range(variability)]\n",
    "print(f\"Numbers: {numbers[0:20]}...{numbers[-20:-1]}\")\n",
    "print(len(numbers))\n",
    "\n",
    "bubble_sort_start = time.time()\n",
    "bubbleSort(numbers)\n",
    "bubble_sort_end = time.time()\n",
    "\n",
    "print(f'End time for bubble sort {bubble_sort_end-bubble_sort_start}. Time complexity n^2')\n",
    "\n",
    "numbers = [random.randint(1, variability) for i in range(variability)]\n",
    "\n",
    "random.shuffle(numbers)\n",
    "merge_sort_start = time.time()\n",
    "mergeSort(numbers)\n",
    "merge_sort_end = time.time()\n",
    "\n",
    "print(f'End time for merge sort {merge_sort_end-merge_sort_start}, Time Complexity nlogn')\n",
    "\n",
    "numbers = [random.randint(1, variability) for i in range(variability)]\n",
    "\n",
    "random.shuffle(numbers)\n",
    "insertion_sort_start = time.time()\n",
    "insertionSort(numbers)\n",
    "insertion_sort_end = time.time()\n",
    "print(f'End time for insertion sort {insertion_sort_end-insertion_sort_start}. Time complexity n^2')\n",
    "\n"
   ]
  }
 ],
 "metadata": {
  "kernelspec": {
   "display_name": "base",
   "language": "python",
   "name": "python3"
  },
  "language_info": {
   "codemirror_mode": {
    "name": "ipython",
    "version": 3
   },
   "file_extension": ".py",
   "mimetype": "text/x-python",
   "name": "python",
   "nbconvert_exporter": "python",
   "pygments_lexer": "ipython3",
   "version": "3.9.12"
  },
  "orig_nbformat": 4
 },
 "nbformat": 4,
 "nbformat_minor": 2
}
