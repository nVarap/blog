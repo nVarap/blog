{
 "cells": [
  {
   "cell_type": "markdown",
   "metadata": {},
   "source": [
    "# first python post\n",
    "> My first python post to the blog\n",
    "- toc: true\n",
    "- comments: true\n",
    "- permalink: /Notebooks/PythonOne\n",
    "- categories: [Notebooks]\n",
    "- tags: [Week 1]\n",
    "- image: images/pythonlogo.png"
   ]
  },
  {
   "cell_type": "code",
   "execution_count": 6,
   "metadata": {
    "vscode": {
     "languageId": "shellscript"
    }
   },
   "outputs": [
    {
     "name": "stdout",
     "output_type": "stream",
     "text": [
      "hello world this is the first python notebook I will be adding to my blog\n"
     ]
    }
   ],
   "source": [
    "print(\"\"\"hello world this is the first python notebook I will be adding to my blog\"\"\") # hello world"
   ]
  }
 ],
 "metadata": {
  "kernelspec": {
   "display_name": "Bash",
   "language": "bash",
   "name": "bash"
  },
  "language_info": {
   "codemirror_mode": {
    "name": "ipython",
    "version": 3
   },
   "file_extension": ".py",
   "mimetype": "text/x-python",
   "name": "bash",
   "nbconvert_exporter": "python",
   "pygments_lexer": "ipython3",
   "version": "3.9.12"
  },
  "orig_nbformat": 4,
  "vscode": {
   "interpreter": {
    "hash": "c7c94c0aed833a2414877ef23593eac2030861692aa72c9bb6e8e4336db6fc0c"
   }
  }
 },
 "nbformat": 4,
 "nbformat_minor": 2
}
