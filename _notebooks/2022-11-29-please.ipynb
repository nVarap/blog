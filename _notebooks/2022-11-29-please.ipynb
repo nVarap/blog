{
 "cells": [
  {
   "attachments": {},
   "cell_type": "markdown",
   "metadata": {},
   "source": [
    "# Sections 3-4\n",
    "> Making Hacks Pertaining to Algorithms\n",
    "- toc: true\n",
    "- comments: true\n",
    "- permalink: /Hacks/please\n",
    "- categories: [Hacks, Algorithm]\n",
    "- tags: [Week 7]\n",
    "- image: images/pythonlogo.png"
   ]
  },
  {
   "cell_type": "markdown",
   "metadata": {},
   "source": [
    "## Example One"
   ]
  },
  {
   "cell_type": "code",
   "execution_count": 1,
   "metadata": {},
   "outputs": [
    {
     "name": "stdout",
     "output_type": "stream",
     "text": [
      "['err']\n"
     ]
    }
   ],
   "source": [
    "lst = [1, 100, 123, 214, 123, 931]\n",
    "new_lst = []\n",
    "for num in lst:\n",
    "    if num % 4 == 2:\n",
    "        new_lst.append(\"err\")\n",
    "print(new_lst)"
   ]
  },
  {
   "cell_type": "markdown",
   "metadata": {},
   "source": [
    "## Explanation\n",
    "**Everything** is sequencing <br>\n",
    "**`for num in lst`** is iteration, as it iterates over the set list. <br>\n",
    "**`if num % 4 == 2`** is selection, as it selects for a specific value"
   ]
  },
  {
   "cell_type": "markdown",
   "metadata": {},
   "source": [
    "# Example 2"
   ]
  },
  {
   "cell_type": "code",
   "execution_count": 5,
   "metadata": {},
   "outputs": [
    {
     "name": "stdout",
     "output_type": "stream",
     "text": [
      "3\n",
      "3\n"
     ]
    }
   ],
   "source": [
    "for i in range(5):\n",
    "    if i % 2 == 1:\n",
    "        print(3)"
   ]
  },
  {
   "cell_type": "markdown",
   "metadata": {},
   "source": [
    "## Explanation\n",
    "**Everything** is sequencing <br>\n",
    "**`for i in range(5)`** is iteration, as it iterates over the range `[1,5]`. <br>\n",
    "**`if num % 2 == 1`** is selection, as it selects for a odd number"
   ]
  },
  {
   "cell_type": "markdown",
   "metadata": {},
   "source": [
    "# Video 2\n",
    "\n",
    "1. Find the value for a, b, c, d\n",
    "- a = 1, b = 7, c = 3, d = 7\n",
    "<br>\n",
    "2. What are the values of hot and cold after executing the code segment?\n",
    "- Hot = true, cold = true"
   ]
  },
  {
   "cell_type": "markdown",
   "metadata": {},
   "source": [
    "## My Own Examples"
   ]
  },
  {
   "cell_type": "markdown",
   "metadata": {},
   "source": [
    "```\n",
    "{\n",
    "a = 1\n",
    "b = 2\n",
    "c = 3\n",
    "d = 4\n",
    "e = 5\n",
    "\n",
    "result = a MOD b MOD c MOD d MOD e \n",
    "display(result)\n",
    "}\n",
    "```"
   ]
  },
  {
   "cell_type": "markdown",
   "metadata": {},
   "source": [
    "Answer: 1 mod 2 mod 3 mod 4 mod 5 = `1`"
   ]
  },
  {
   "cell_type": "markdown",
   "metadata": {},
   "source": [
    "```\n",
    "{\n",
    "    a = 1\n",
    "    b = 2\n",
    "    c = a+b\n",
    "    d = a+b+c\n",
    "    e = (a+b+c+d)/(d-b)\n",
    "    display(e)\n",
    "}\n",
    "```"
   ]
  },
  {
   "cell_type": "markdown",
   "metadata": {},
   "source": [
    "Answer: "
   ]
  },
  {
   "cell_type": "markdown",
   "metadata": {},
   "source": [
    "c = 3\n",
    "d = 6\n",
    "e = 1+2+3+6/(6-2) = 12/4 = \n",
    "`3`"
   ]
  },
  {
   "cell_type": "markdown",
   "metadata": {},
   "source": [
    "## Concatenation \n",
    "\n",
    "1. `SmithB@gmail.com`, you concatenate `Smith`, `B`, and `@gmail.com` without spaces\n",
    "2. `ompuook`, you take a substring of `computer` and `textbook` (`omp` and `ook` respectively) and concatenate them together"
   ]
  }
 ],
 "metadata": {
  "kernelspec": {
   "display_name": "Python 3",
   "language": "python",
   "name": "python3"
  },
  "language_info": {
   "codemirror_mode": {
    "name": "ipython",
    "version": 3
   },
   "file_extension": ".py",
   "mimetype": "text/x-python",
   "name": "python",
   "nbconvert_exporter": "python",
   "pygments_lexer": "ipython3",
   "version": "3.10.7 (v3.10.7:6cc6b13308, Sep  5 2022, 14:02:52) [Clang 13.0.0 (clang-1300.0.29.30)]"
  },
  "orig_nbformat": 4,
  "vscode": {
   "interpreter": {
    "hash": "aee8b7b246df8f9039afb4144a1f6fd8d2ca17a180786b69acc140d282b71a49"
   }
  }
 },
 "nbformat": 4,
 "nbformat_minor": 2
}
