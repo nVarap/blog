{
 "cells": [
  {
   "cell_type": "markdown",
   "metadata": {},
   "source": [
    "# First Bash Project\n",
    "> A notebook of my first bash project\n",
    "- toc: true\n",
    "- comments: true\n",
    "- permalink: /Notebooks/BashOne\n",
    "- categories: [Notebooks]"
   ]
  },
  {
   "cell_type": "code",
   "execution_count": null,
   "metadata": {
    "vscode": {
     "languageId": "shellscript"
    }
   },
   "outputs": [],
   "source": [
    "str=\"bash\"\n",
    "\n",
    "echo $str # displays first iteration of str, where it equals bash\n",
    "\n",
    "str=\"newbash\" # override variable\n",
    "\n",
    "echo $str # displays new iteration of str, as newbash"
   ]
  },
  {
   "cell_type": "code",
   "execution_count": null,
   "metadata": {
    "vscode": {
     "languageId": "shellscript"
    }
   },
   "outputs": [],
   "source": [
    "export project_dir=$HOME/vscode\n",
    "export project=project_dir/APCSP\n",
    "export repo=\"https://github.com/nighthawkcoders/APCSP.git\"\n",
    "\n",
    "cd ~\n",
    "\n",
    "if [ ! -d $project_dir ]\n",
    "then \n",
    "    echo \"Creating project dir at $project_dir as it doesn't exist\"\n",
    "    mkdir -p $project_dir\n",
    "    \n",
    "fi \n",
    "    echo \"$project_dir exists\"\n",
    "\n",
    "if [ ! -d $project ] \n",
    "then\n",
    "    echo \"Directory exists but not subdir $project. Cloning into subdir\"\n",
    "    cd $project_dir\n",
    "    git clone $repo\n",
    "    cd ~\n",
    " fi \n",
    "    echo \" project exists, all set! \""
   ]
  },
  {
   "cell_type": "markdown",
   "metadata": {},
   "source": [
    "# Answers to hacks\n",
    "\n",
    "- We can verify tools by using conditional commands to tell us about the versions\n",
    "- We can use conda list to check all installed packages and their version\n",
    "- use git add to add any relevant files, use git commit to commit to the relevant repository, and use git push to push changes to the master branch\n",
    "- Created script below"
   ]
  },
  {
   "cell_type": "code",
   "execution_count": null,
   "metadata": {
    "vscode": {
     "languageId": "shellscript"
    }
   },
   "outputs": [],
   "source": [
    "# Script to automate the process of verification"
   ]
  }
 ],
 "metadata": {
  "kernelspec": {
   "display_name": "Bash",
   "language": "bash",
   "name": "bash"
  },
  "language_info": {
   "codemirror_mode": "shell",
   "file_extension": ".sh",
   "mimetype": "text/x-sh",
   "name": "bash"
  },
  "orig_nbformat": 4
 },
 "nbformat": 4,
 "nbformat_minor": 2
}
