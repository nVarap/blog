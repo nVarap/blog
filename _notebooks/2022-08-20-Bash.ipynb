{
 "cells": [
  {
   "cell_type": "markdown",
   "metadata": {},
   "source": [
    "# First Bash Project\n",
    "> A notebook of my first bash project\n",
    "- toc: true\n",
    "- comments: true\n",
    "- permalink: /Hacks/BashOne\n",
    "- categories: [Hacks]\n",
    "- image: images/bash.png"
   ]
  },
  {
   "cell_type": "code",
   "execution_count": 2,
   "metadata": {
    "vscode": {
     "languageId": "shellscript"
    }
   },
   "outputs": [
    {
     "name": "stdout",
     "output_type": "stream",
     "text": [
      "bash\n",
      "newbash\n"
     ]
    }
   ],
   "source": [
    "str=\"bash\"\n",
    "\n",
    "echo $str # displays first iteration of str, where it equals bash\n",
    "\n",
    "str=\"newbash\" # override variable\n",
    "\n",
    "echo $str # displays new iteration of str, as newbash"
   ]
  },
  {
   "cell_type": "code",
   "execution_count": 1,
   "metadata": {
    "vscode": {
     "languageId": "shellscript"
    }
   },
   "outputs": [
    {
     "name": "stdout",
     "output_type": "stream",
     "text": [
      "/Users/vn1/vscode exists\n",
      "Directory exists but not subdir project_dir/APCSP. Cloning into subdir\n",
      "fatal: destination path 'APCSP' already exists and is not an empty directory.\n",
      " project exists, all set! \n"
     ]
    }
   ],
   "source": [
    "export project_dir=$HOME/vscode\n",
    "export project=project_dir/APCSP\n",
    "export repo=\"https://github.com/nighthawkcoders/APCSP.git\"\n",
    "\n",
    "cd ~\n",
    "\n",
    "if [ ! -d $project_dir ]\n",
    "then \n",
    "    echo \"Creating project dir at $project_dir as it doesn't exist\"\n",
    "    mkdir -p $project_dir\n",
    "    \n",
    "fi \n",
    "    echo \"$project_dir exists\"\n",
    "\n",
    "if [ ! -d $project ] \n",
    "then\n",
    "    echo \"Directory exists but not subdir $project. Cloning into subdir\"\n",
    "    cd $project_dir\n",
    "    git clone $repo\n",
    "    cd ~\n",
    " fi \n",
    "    echo \" project exists, all set! \""
   ]
  },
  {
   "cell_type": "markdown",
   "metadata": {},
   "source": [
    "# Answers to hacks\n",
    "\n",
    "- We can verify tools by using conditional commands to tell us about the versions\n",
    "- We can use ``conda list`` to check all installed packages and their version\n",
    "- use ``git add`` to add any relevant files, use ``git commit`` to commit to the relevant repository, and use ``git push`` to push changes to the master branch\n",
    "- We can create a script."
   ]
  },
  {
   "cell_type": "markdown",
   "metadata": {},
   "source": [
    "## Hacks output 1\n",
    "Navigate to project, then navigate to area wwhere files were cloned\n",
    "/Users/vn1\n",
    "\n",
    "list top level or root of files with project pulled from github\n",
    "Applications\t\tPublic\t\t\tmacurmom.txt\n",
    "Desktop\t\t\ta.txt\t\t\tmyblog\n",
    "Dev\t\t\tairptone.mtl\t\topt\n",
    "Documents\t\tairptone.obj\t\tptone.mtl\n",
    "Downloads\t\tchairptone.mtl\t\tptone.obj\n",
    "FirstBash.ipynb\t\tchairptone.obj\t\tq\n",
    "Java-Training-Exercises\thairptone.mtl\t\trptone.mtl\n",
    "Library\t\t\thairptone.obj\t\trptone.obj\n",
    "Movies\t\t\tirptone.mtl\t\tussy\n",
    "Music\t\t\tirptone.obj\t\tvscode\n",
    "Pictures\t\tlechairptone.mtl\twpilib\n",
    "Projects\t\tlechairptone.obj\n",
    "\n",
    "list again with hidden files pulled from github\n",
    ".\t\t\t.local\t\t\tMovies\n",
    "..\t\t\t.mono\t\t\tMusic\n",
    ".CFUserTextEncoding\t.npm\t\t\tPictures\n",
    ".DS_Store\t\t.nuget\t\t\tProjects\n",
    ".IdentityService\t.oracle_jre_usage\tPublic\n",
    ".Trash\t\t\t.plastic4\t\ta.txt\n",
    ".anaconda\t\t.pub-cache\t\tairptone.mtl\n",
    ".android\t\t.random.swp\t\tairptone.obj\n",
    ".bash_history\t\t.ssh\t\t\tchairptone.mtl\n",
    ".bash_profile\t\t.swiftpm\t\tchairptone.obj\n",
    ".bash_sessions\t\t.tcshrc\t\t\thairptone.mtl\n",
    ".cache\t\t\t.templateengine\t\thairptone.obj\n",
    ".conda\t\t\t.thumbnails\t\tirptone.mtl\n",
    ".condarc\t\t.viminfo\t\tirptone.obj\n",
    ".config\t\t\t.vimrc\t\t\tlechairptone.mtl\n",
    ".continuum\t\t.vnc\t\t\tlechairptone.obj\n",
    ".cshrc\t\t\t.vscode\t\t\tmacurmom.txt\n",
    ".cshrc.pysave\t\t.xonshrc\t\tmyblog\n",
    ".cups\t\t\t.zsh_history\t\topt\n",
    ".dart\t\t\t.zsh_sessions\t\tptone.mtl\n",
    ".dartServer\t\t.zshrc\t\t\tptone.obj\n",
    ".dotnet\t\t\tApplications\t\tq\n",
    ".flutter\t\tDesktop\t\t\trptone.mtl\n",
    ".gitconfig\t\tDev\t\t\trptone.obj\n",
    ".gradle\t\t\tDocuments\t\tussy\n",
    ".idlerc\t\t\tDownloads\t\tvscode\n",
    ".ipynb_checkpoints\tFirstBash.ipynb\t\twpilib\n",
    ".ipython\t\tJava-Training-Exercises\n",
    ".jupyter\t\tLibrary\n",
    "\n",
    "list all files in long format\n",
    "total 111472\n",
    "drwxr-x---+  85 vn1   staff      2720 Aug 26 13:15 .\n",
    "drwxr-xr-x    7 root  admin       224 Aug 10 23:44 ..\n",
    "-r--------    1 vn1   staff         7 Nov  3  2021 .CFUserTextEncoding\n",
    "-rw-r--r--@   1 vn1   staff     12292 Aug 25 14:03 .DS_Store\n",
    "drwxr-xr-x    7 vn1   staff       224 Aug 19 17:20 .IdentityService\n",
    "drwx------+  24 vn1   staff       768 Aug 25 18:05 .Trash\n",
    "drwxr-xr-x    3 vn1   staff        96 Aug 18 13:34 .anaconda\n",
    "drwxr-xr-x    7 vn1   staff       224 Jul 25 16:33 .android\n",
    "-rw-------    1 vn1   staff     25628 Aug 25 21:47 .bash_history\n",
    "-rw-r--r--    1 vn1   staff       487 Aug 19 17:16 .bash_profile\n",
    "drwx------   23 vn1   staff       736 Aug 25 14:03 .bash_sessions\n",
    "drwxr-xr-x    3 vn1   staff        96 Jul  3 22:37 .cache\n",
    "drwxr-xr-x    4 vn1   staff       128 Aug 22 23:04 .conda\n",
    "-rw-r--r--    1 vn1   staff        23 Aug 18 13:37 .condarc\n",
    "drwxr-xr-x   10 vn1   staff       320 Aug 19 18:00 .config\n",
    "drwxr-xr-x    3 vn1   staff        96 Aug 18 13:35 .continuum\n",
    "-rw-r--r--@   1 vn1   staff       616 Nov 13  2021 .cshrc\n",
    "-rw-r--r--@   1 vn1   staff       463 Nov  7  2021 .cshrc.pysave\n",
    "drwx------    3 vn1   staff        96 Nov 18  2021 .cups\n",
    "drwxr-xr-x    5 vn1   staff       160 Jul 26 14:47 .dart\n",
    "drwxr-xr-x    5 vn1   staff       160 Jul 27 14:31 .dartServer\n",
    "drwxr-xr-x    3 vn1   staff        96 Jul  9 11:31 .dotnet\n",
    "-rw-r--r--    1 vn1   staff        78 Jul 25 15:49 .flutter\n",
    "-rw-r--r--    1 vn1   staff        48 Aug 19 17:43 .gitconfig\n",
    "drwxr-xr-x   11 vn1   staff       352 Jul  7 19:21 .gradle\n",
    "drwxr-xr-x    5 vn1   staff       160 Aug  5 14:21 .idlerc\n",
    "drwxr-xr-x    3 vn1   staff        96 Aug 22 22:00 .ipynb_checkpoints\n",
    "drwxr-xr-x    3 vn1   staff        96 Aug 19 13:46 .ipython\n",
    "drwxr-xr-x    3 vn1   staff        96 Aug 19 17:58 .jupyter\n",
    "drwxr-xr-x    4 vn1   staff       128 Jul  5 19:16 .local\n",
    "drwxr-xr-x    3 vn1   staff        96 Jan 30  2022 .mono\n",
    "drwxr-xr-x    7 vn1   staff       224 Aug 24 14:06 .npm\n",
    "drwxr-xr-x    3 vn1   staff        96 Jul 10 14:27 .nuget\n",
    "drwxr-xr-x   97 vn1   staff      3104 Aug 15 09:19 .oracle_jre_usage\n",
    "drwxr-xr-x    4 vn1   staff       128 Jun 28 21:32 .plastic4\n",
    "drwxr-xr-x    4 vn1   staff       128 Aug  6 15:46 .pub-cache\n",
    "-rw-------    1 vn1   staff     20480 Jul  4 18:06 .random.swp\n",
    "drwx------    3 vn1   staff        96 Aug 19 18:35 .ssh\n",
    "drwxr-xr-x    4 vn1   staff       128 Jun 27 09:14 .swiftpm\n",
    "-rw-r--r--    1 vn1   staff       311 Aug 19 17:16 .tcshrc\n",
    "drwxr-xr-x    4 vn1   staff       128 Jul  3 20:18 .templateengine\n",
    "drwxr-xr-x    4 vn1   staff       128 Nov 21  2021 .thumbnails\n",
    "-rw-------    1 vn1   staff     15717 Aug 22 22:50 .viminfo\n",
    "-rw-r--r--@   1 vn1   staff        80 Nov  7  2021 .vimrc\n",
    "drwx------    6 vn1   staff       192 Dec 12  2021 .vnc\n",
    "drwxr-xr-x    4 vn1   staff       128 Jul  3 22:30 .vscode\n",
    "-rw-r--r--    1 vn1   staff       594 Aug 19 17:16 .xonshrc\n",
    "-rw-------    1 vn1   staff      5075 Aug 25 14:03 .zsh_history\n",
    "drwx------   66 vn1   staff      2112 Aug 26 13:15 .zsh_sessions\n",
    "-rw-r--r--@   1 vn1   staff       533 Aug 19 17:16 .zshrc\n",
    "drwx------@   4 vn1   staff       128 Aug 18 13:16 Applications\n",
    "drwx------@  66 vn1   staff      2112 Aug 25 23:17 Desktop\n",
    "drwxr-xr-x    3 vn1   staff        96 Jul 25 15:36 Dev\n",
    "drwx------@  94 vn1   staff      3008 Aug 22 19:11 Documents\n",
    "drwx------@ 829 vn1   staff     26528 Aug 26 08:04 Downloads\n",
    "-rw-r--r--    1 vn1   staff      2496 Aug 22 22:47 FirstBash.ipynb\n",
    "drwxr-xr-x    5 vn1   staff       160 Jul  6 21:08 Java-Training-Exercises\n",
    "drwx------@  89 vn1   staff      2848 Aug 19 17:16 Library\n",
    "drwx------    7 vn1   staff       224 Nov  3  2021 Movies\n",
    "drwx------+   6 vn1   staff       192 Nov  3  2021 Music\n",
    "drwx------+   6 vn1   staff       192 Nov  3  2021 Pictures\n",
    "drwxr-xr-x    5 vn1   staff       160 Aug  4 10:48 Projects\n",
    "drwxr-xr-x+   4 vn1   staff       128 Nov  3  2021 Public\n",
    "-rw-r--r--    1 vn1   staff        45 May 14 11:47 a.txt\n",
    "-rw-r--r--    1 vn1   staff       844 Mar  4 15:31 airptone.mtl\n",
    "-rw-r--r--    1 vn1   staff    376099 Mar  4 15:31 airptone.obj\n",
    "-rw-r--r--    1 vn1   staff       844 Mar  4 15:23 chairptone.mtl\n",
    "-rw-r--r--    1 vn1   staff  24840951 Mar  4 15:23 chairptone.obj\n",
    "-rw-r--r--    1 vn1   staff       844 Mar  4 15:27 hairptone.mtl\n",
    "-rw-r--r--@   1 vn1   staff    371107 Mar  4 15:27 hairptone.obj\n",
    "-rw-r--r--    1 vn1   staff      1030 Mar  4 15:42 irptone.mtl\n",
    "-rw-r--r--    1 vn1   staff   1771484 Mar  4 15:42 irptone.obj\n",
    "-rw-r--r--    1 vn1   staff       844 Mar  4 15:21 lechairptone.mtl\n",
    "-rw-r--r--    1 vn1   staff  24845830 Mar  4 15:21 lechairptone.obj\n",
    "-rw-r--r--@   1 vn1   staff       743 May 14 14:31 macurmom.txt\n",
    "drwxr-xr-x    5 vn1   staff       160 Aug 19 20:59 myblog\n",
    "drwxr-xr-x    3 vn1   staff        96 Aug 19 17:12 opt\n",
    "-rw-r--r--    1 vn1   staff       716 Mar  4 16:26 ptone.mtl\n",
    "-rw-r--r--    1 vn1   staff     37095 Mar  4 16:26 ptone.obj\n",
    "-rw-r--r--    1 vn1   staff        46 May 14 11:46 q\n",
    "-rw-r--r--    1 vn1   staff       716 Mar  4 16:25 rptone.mtl\n",
    "-rw-r--r--    1 vn1   staff   4635360 Mar  4 16:25 rptone.obj\n",
    "-rw-r--r--    1 vn1   staff       219 Jun  5 22:34 ussy\n",
    "drwxr-xr-x    3 vn1   staff        96 Aug 22 22:44 vscode\n",
    "drwxr-xr-x    3 vn1   staff        96 Jul  3 23:26 wpilib"
   ]
  },
  {
   "cell_type": "markdown",
   "metadata": {},
   "source": [
    "## Hacks output 2\n",
    "Look for posts\n",
    "bash: cd: /_posts: No such file or directory\n",
    "/Users/vn1/vscode/APCSP/_notebooks\n",
    "total 232\n",
    "-rw-r--r--  1 vn1  staff  14243 Aug 22 22:44 2022-06-01-TT150-webapi_tutorial.ipynb\n",
    "-rw-r--r--  1 vn1  staff   8653 Aug 22 22:44 2022-07-21-PBL-neo4j_intro.ipynb\n",
    "-rw-r--r--  1 vn1  staff  13103 Aug 24 14:06 2022-08-22-TP110-python_hello.ipynb\n",
    "-rw-r--r--  1 vn1  staff  20003 Aug 22 22:44 2022-08-22-TT110-anthony_and_sahil.ipynb\n",
    "-rw-r--r--  1 vn1  staff  18006 Aug 26 13:16 2022-08-22-TT110-bash_tutorial.ipynb\n",
    "-rw-r--r--  1 vn1  staff  10141 Aug 22 22:44 2022-08-29-TP120-python_lists.ipynb\n",
    "-rw-r--r--  1 vn1  staff  12632 Aug 23 11:26 2022-09-05-TT130-js_tutorial.ipynb\n",
    "-rw-r--r--  1 vn1  staff    771 Aug 22 22:44 README.md\n",
    "drwxr-xr-x  3 vn1  staff     96 Aug 22 22:44 images"
   ]
  },
  {
   "cell_type": "markdown",
   "metadata": {},
   "source": [
    "## hacks output 3 \n",
    "Look for notebooks\n",
    "bash: cd: /_notebooks: No such file or directory\n",
    "/Users/vn1/vscode/APCSP/_notebooks\n",
    "total 232\n",
    "-rw-r--r--  1 vn1  staff  14243 Aug 22 22:44 2022-06-01-TT150-webapi_tutorial.ipynb\n",
    "-rw-r--r--  1 vn1  staff   8653 Aug 22 22:44 2022-07-21-PBL-neo4j_intro.ipynb\n",
    "-rw-r--r--  1 vn1  staff  13103 Aug 24 14:06 2022-08-22-TP110-python_hello.ipynb\n",
    "-rw-r--r--  1 vn1  staff  20003 Aug 22 22:44 2022-08-22-TT110-anthony_and_sahil.ipynb\n",
    "-rw-r--r--  1 vn1  staff  19020 Aug 26 13:24 2022-08-22-TT110-bash_tutorial.ipynb\n",
    "-rw-r--r--  1 vn1  staff  10141 Aug 22 22:44 2022-08-29-TP120-python_lists.ipynb\n",
    "-rw-r--r--  1 vn1  staff  12632 Aug 23 11:26 2022-09-05-TT130-js_tutorial.ipynb\n",
    "-rw-r--r--  1 vn1  staff    771 Aug 22 22:44 README.md\n",
    "drwxr-xr-x  3 vn1  staff     96 Aug 22 22:44 images\n",
    "\n",
    "---\n",
    "\n",
    "## Number 4\n",
    "Look for images in notebooks, print working directory, list files\n",
    "bash: cd: /_notebooks/images: No such file or directory\n",
    "/Users/vn1/vscode/APCSP/_notebooks\n",
    "total 232\n",
    "-rw-r--r--  1 vn1  staff  14243 Aug 22 22:44 2022-06-01-TT150-webapi_tutorial.ipynb\n",
    "-rw-r--r--  1 vn1  staff   8653 Aug 22 22:44 2022-07-21-PBL-neo4j_intro.ipynb\n",
    "-rw-r--r--  1 vn1  staff  13103 Aug 24 14:06 2022-08-22-TP110-python_hello.ipynb\n",
    "-rw-r--r--  1 vn1  staff  20003 Aug 22 22:44 2022-08-22-TT110-anthony_and_sahil.ipynb\n",
    "-rw-r--r--  1 vn1  staff  19020 Aug 26 13:24 2022-08-22-TT110-bash_tutorial.ipynb\n",
    "-rw-r--r--  1 vn1  staff  10141 Aug 22 22:44 2022-08-29-TP120-python_lists.ipynb\n",
    "-rw-r--r--  1 vn1  staff  12632 Aug 23 11:26 2022-09-05-TT130-js_tutorial.ipynb\n",
    "-rw-r--r--  1 vn1  staff    771 Aug 22 22:44 README.md\n",
    "drwxr-xr-x  3 vn1  staff     96 Aug 22 22:44 images"
   ]
  },
  {
   "cell_type": "markdown",
   "metadata": {},
   "source": [
    "## Printing .md file contents\n",
    "{\n",
    "```\n",
    "# My Blog\n",
    "\n",
    "\n",
    "_powered by [fastpages](https://github.com/fastai/fastpages)_\n",
    "\n",
    "\n",
    "## What To Do Next?\n",
    "\n",
    "Great!  You have setup your repo.  Now its time to start writing content.  Some helpful links:\n",
    "\n",
    "- [Writing Blogs With Jupyter](https://github.com/fastai/fastpages#writing-blog-posts-with-jupyter)\n",
    "\n",
    "- [Writing Blogs With Markdown](https://github.com/fastai/fastpages#writing-blog-posts-with-markdown)\n",
    "\n",
    "- [Writing Blog Posts With Word](https://github.com/fastai/fastpages#writing-blog-posts-with-microsoft-word)\n",
    "\n",
    "- [(Optional) Preview Your Blog Locally](_fastpages_docs/DEVELOPMENT.md)\n",
    "\n",
    "Note: you may want to remove example blog posts from the `_posts`,  `_notebooks` or `_word` folders (but leave them empty, don't delete these folders) if you don't want these blog posts to appear on your site.\n",
    "\n",
    "Please use the [nbdev & blogging channel](https://forums.fast.ai/c/fastai-users/nbdev/48) in the fastai forums for any questions or feature requests.\n",
    "```\n",
    "}"
   ]
  },
  {
   "cell_type": "markdown",
   "metadata": {},
   "source": [
    "# Answers to Hacks"
   ]
  },
  {
   "cell_type": "code",
   "execution_count": 3,
   "metadata": {
    "vscode": {
     "languageId": "shellscript"
    }
   },
   "outputs": [
    {
     "name": "stdout",
     "output_type": "stream",
     "text": [
      "We can verify tools by using conditional commands to tell us about the versions\n",
      "We can use conda list to check all installed packages and their version\n",
      "use git add to add any relevant files, use git commit to commit to the relevant repository, and use git push to push changes to the master branch\n",
      "We can create a script to install automatically\n"
     ]
    }
   ],
   "source": [
    "echo \"We can verify tools by using conditional commands to tell us about the versions\"\n",
    "echo \"We can use conda list to check all installed packages and their version\"\n",
    "echo \"use git add to add any relevant files, use git commit to commit to the relevant repository, and use git push to push changes to the master branch\"\n",
    "echo \"We can create a script to install automatically\""
   ]
  },
  {
   "cell_type": "code",
   "execution_count": null,
   "metadata": {
    "vscode": {
     "languageId": "shellscript"
    }
   },
   "outputs": [],
   "source": [
    "echo \"Using conditional statement to create a project directory and project\"\n",
    "echo \"Directory /Users/vn1/vscode exists.\"\n",
    "echo \"Directory /Users/vn1/vscode/APCSP exists.\""
   ]
  }
 ],
 "metadata": {
  "kernelspec": {
   "display_name": "Python 3.10.5 64-bit",
   "language": "python",
   "name": "python3"
  },
  "language_info": {
   "codemirror_mode": "shell",
   "file_extension": ".sh",
   "mimetype": "text/x-sh",
   "name": "python",
   "version": "3.10.5"
  },
  "orig_nbformat": 4,
  "vscode": {
   "interpreter": {
    "hash": "aee8b7b246df8f9039afb4144a1f6fd8d2ca17a180786b69acc140d282b71a49"
   }
  }
 },
 "nbformat": 4,
 "nbformat_minor": 2
}
