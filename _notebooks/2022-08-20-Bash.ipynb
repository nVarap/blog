{
 "cells": [
  {
   "cell_type": "markdown",
   "metadata": {},
   "source": [
    "# First Bash Project\n",
    "> A notebook of my first bash project\n",
    "- toc: true\n",
    "- comments: true\n",
    "- permalink: /Notebooks/BashOne\n",
    "- categories: [Notebooks]"
   ]
  },
  {
   "cell_type": "markdown",
   "metadata": {},
   "source": [
    "{% include nav_frontend.html %}"
   ]
  },
  {
   "cell_type": "code",
   "execution_count": null,
   "metadata": {
    "vscode": {
     "languageId": "shellscript"
    }
   },
   "outputs": [],
   "source": [
    "str=\"bash\"\n",
    "\n",
    "echo $str # displays first iteration of str, where it equals bash\n",
    "\n",
    "str=\"newbash\" # override variable\n",
    "\n",
    "echo $str # displays new iteration of str, as newbash"
   ]
  },
  {
   "cell_type": "code",
   "execution_count": null,
   "metadata": {
    "vscode": {
     "languageId": "shellscript"
    }
   },
   "outputs": [],
   "source": [
    "export project_dir=$HOME/vscode\n",
    "export project=project_dir/APCSP\n",
    "export repo=\"https://github.com/nighthawkcoders/APCSP.git\"\n",
    "\n",
    "cd ~\n",
    "\n",
    "if [ ! -d $project_dir ]\n",
    "then \n",
    "    echo \"Creating project dir at $project_dir as it doesn't exist\"\n",
    "    mkdir -p $project_dir\n",
    "    \n",
    "fi \n",
    "    echo \"$project_dir exists\"\n",
    "\n",
    "if [ ! -d $project ] \n",
    "then\n",
    "    echo \"Directory exists but not subdir $project. Cloning into subdir\"\n",
    "    cd $project_dir\n",
    "    git clone $repo\n",
    "    cd ~\n",
    " fi \n",
    "    echo \" project exists, all set! \""
   ]
  }
 ],
 "metadata": {
  "kernelspec": {
   "display_name": "Bash",
   "language": "bash",
   "name": "bash"
  },
  "language_info": {
   "codemirror_mode": "shell",
   "file_extension": ".sh",
   "mimetype": "text/x-sh",
   "name": "bash"
  },
  "orig_nbformat": 4
 },
 "nbformat": 4,
 "nbformat_minor": 2
}
