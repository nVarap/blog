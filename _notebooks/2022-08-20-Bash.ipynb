{
 "cells": [
  {
   "cell_type": "markdown",
   "metadata": {},
   "source": [
    "# First Bash Project\n",
    "> A notebook of my first bash project\n",
    "- toc: true\n",
    "- comments: true\n",
    "- permalink: /Hacks/BashOne\n",
    "- categories: [Hacks]\n",
    "- image: images/bash.png"
   ]
  },
  {
   "cell_type": "code",
   "execution_count": 2,
   "metadata": {
    "vscode": {
     "languageId": "shellscript"
    }
   },
   "outputs": [
    {
     "name": "stdout",
     "output_type": "stream",
     "text": [
      "bash\n",
      "newbash\n"
     ]
    }
   ],
   "source": [
    "str=\"bash\"\n",
    "\n",
    "echo $str # displays first iteration of str, where it equals bash\n",
    "\n",
    "str=\"newbash\" # override variable\n",
    "\n",
    "echo $str # displays new iteration of str, as newbash"
   ]
  },
  {
   "cell_type": "code",
   "execution_count": 1,
   "metadata": {
    "vscode": {
     "languageId": "shellscript"
    }
   },
   "outputs": [
    {
     "name": "stdout",
     "output_type": "stream",
     "text": [
      "/Users/vn1/vscode exists\n",
      "Directory exists but not subdir project_dir/APCSP. Cloning into subdir\n",
      "fatal: destination path 'APCSP' already exists and is not an empty directory.\n",
      " project exists, all set! \n"
     ]
    }
   ],
   "source": [
    "export project_dir=$HOME/vscode\n",
    "export project=project_dir/APCSP\n",
    "export repo=\"https://github.com/nighthawkcoders/APCSP.git\"\n",
    "\n",
    "cd ~\n",
    "\n",
    "if [ ! -d $project_dir ]\n",
    "then \n",
    "    echo \"Creating project dir at $project_dir as it doesn't exist\"\n",
    "    mkdir -p $project_dir\n",
    "    \n",
    "fi \n",
    "    echo \"$project_dir exists\"\n",
    "\n",
    "if [ ! -d $project ] \n",
    "then\n",
    "    echo \"Directory exists but not subdir $project. Cloning into subdir\"\n",
    "    cd $project_dir\n",
    "    git clone $repo\n",
    "    cd ~\n",
    " fi \n",
    "    echo \" project exists, all set! \""
   ]
  },
  {
   "cell_type": "markdown",
   "metadata": {},
   "source": [
    "# Answers to hacks\n",
    "\n",
    "- We can verify tools by using conditional commands to tell us about the versions\n",
    "- We can use ``conda list`` to check all installed packages and their version\n",
    "- use ``git add`` to add any relevant files, use ``git commit`` to commit to the relevant repository, and use ``git push`` to push changes to the master branch\n",
    "- We can create a script."
   ]
  },
  {
   "cell_type": "code",
   "execution_count": 3,
   "metadata": {
    "vscode": {
     "languageId": "shellscript"
    }
   },
   "outputs": [
    {
     "name": "stdout",
     "output_type": "stream",
     "text": [
      "We can verify tools by using conditional commands to tell us about the versions\n",
      "We can use conda list to check all installed packages and their version\n",
      "use git add to add any relevant files, use git commit to commit to the relevant repository, and use git push to push changes to the master branch\n",
      "We can create a script to install automatically\n"
     ]
    }
   ],
   "source": [
    "echo \"We can verify tools by using conditional commands to tell us about the versions\"\n",
    "echo \"We can use conda list to check all installed packages and their version\"\n",
    "echo \"use git add to add any relevant files, use git commit to commit to the relevant repository, and use git push to push changes to the master branch\"\n",
    "echo \"We can create a script to install automatically\""
   ]
  },
  {
   "cell_type": "code",
   "execution_count": null,
   "metadata": {
    "vscode": {
     "languageId": "shellscript"
    }
   },
   "outputs": [],
   "source": [
    "echo \"Using conditional statement to create a project directory and project\"\n",
    "echo \"Directory /Users/vn1/vscode exists.\"\n",
    "echo \"Directory /Users/vn1/vscode/APCSP exists.\""
   ]
  }
 ],
 "metadata": {
  "kernelspec": {
   "display_name": "Bash",
   "language": "bash",
   "name": "bash"
  },
  "language_info": {
   "codemirror_mode": "shell",
   "file_extension": ".sh",
   "mimetype": "text/x-sh",
   "name": "bash"
  },
  "orig_nbformat": 4
 },
 "nbformat": 4,
 "nbformat_minor": 2
}
