{
 "cells": [
  {
   "attachments": {},
   "cell_type": "markdown",
   "metadata": {},
   "source": [
    "# Sections 16\n",
    "> Section 16\n",
    "- toc: true\n",
    "- comments: true\n",
    "- permalink: /Hacks/skimul\n",
    "- categories: [Hacks]\n",
    "- tags: [Week 16]\n",
    "- image: images/pythonlogo.png"
   ]
  },
  {
   "attachments": {},
   "cell_type": "markdown",
   "metadata": {},
   "source": [
    "# Vocab\n",
    "- Simulation: Simulates a real-world experiment (abstraction of a complicated phenomena)\n",
    "    - Removes unnecessary details\n",
    "    - Level of abstraction depends on who/why we're creating it\n",
    "    - Ex: A flying simulator"
   ]
  },
  {
   "attachments": {},
   "cell_type": "markdown",
   "metadata": {},
   "source": [
    "# Why Use a Simulation\n",
    "- **Safety**\n",
    "- **Money** 🤑\n",
    "- Repetitions and tweaking to assure consistency\n",
    "- Predictions, use it assure a certain outcome\n",
    "- Model complicated solutions --> allows users to model w/o complexities\n",
    "- Reveal possible issues"
   ]
  },
  {
   "attachments": {},
   "cell_type": "markdown",
   "metadata": {},
   "source": [
    "# Practice\n",
    "1. A simulation will always have the same result *F*\n",
    "2. A simulation investigates a phenomenon without the real world constraints of time and money *T*\n",
    "3. A simulation has results that are more accurate than an experiment *F*\n",
    "4. A simulation can model real world events that are not practical for experiments *T*"
   ]
  },
  {
   "attachments": {},
   "cell_type": "markdown",
   "metadata": {},
   "source": [
    "# Principles\n",
    "- You cannot fully represent the real world\n",
    "    - I.e dice, there is never true randomness\n",
    "- Remove ideas like the movement of molecules and atomic. Make more macro than micro\n",
    "- Using previous ideas, such as flowcharts, conditionals, standard deviation\n",
    "- Pseudo-randomness"
   ]
  },
  {
   "attachments": {},
   "cell_type": "markdown",
   "metadata": {},
   "source": [
    "# Hacks"
   ]
  },
  {
   "attachments": {},
   "cell_type": "markdown",
   "metadata": {},
   "source": [
    "| Question | Answer |\n",
    "| -------- | ------ |\n",
    "| Name(First+Last) | Varaprasad Nibhanupudi\t\n",
    "| 1 | 😈😈😈 |\n",
    "| 2\t| 😈😈😈 |\n",
    "| 3\t| C |\n",
    "| 4\t| B |\n",
    "| 5\t| C |\n",
    "| 6\t| A |\n",
    "| 7\t| A |\n",
    "| 8\t| 😈😈😈 |\n",
    "| 9 | B |"
   ]
  },
  {
   "attachments": {},
   "cell_type": "markdown",
   "metadata": {},
   "source": [
    "# Lemme Write a Simulation"
   ]
  },
  {
   "cell_type": "code",
   "execution_count": 12,
   "metadata": {},
   "outputs": [
    {
     "name": "stdout",
     "output_type": "stream",
     "text": [
      "Simulation 1\n",
      "Number of 1s on 10000 rolls: 1685, or 16.85%\n",
      "Number of 2s on 10000 rolls: 1692, or 16.92%\n",
      "Number of 3s on 10000 rolls: 1619, or 16.19%\n",
      "Number of 4s on 10000 rolls: 1710, or 17.1%\n",
      "Number of 5s on 10000 rolls: 1657, or 16.57%\n",
      "Number of 6s on 10000 rolls: 1637, or 16.37%\n",
      "Simulation 2\n",
      "Number of 1s on 10000 rolls: 1636, or 16.36%\n",
      "Number of 2s on 10000 rolls: 1580, or 15.8%\n",
      "Number of 3s on 10000 rolls: 1752, or 17.52%\n",
      "Number of 4s on 10000 rolls: 1619, or 16.19%\n",
      "Number of 5s on 10000 rolls: 1749, or 17.49%\n",
      "Number of 6s on 10000 rolls: 1664, or 16.64%\n",
      "Simulation 3\n",
      "Number of 1s on 10000 rolls: 1673, or 16.73%\n",
      "Number of 2s on 10000 rolls: 1632, or 16.32%\n",
      "Number of 3s on 10000 rolls: 1684, or 16.84%\n",
      "Number of 4s on 10000 rolls: 1694, or 16.94%\n",
      "Number of 5s on 10000 rolls: 1669, or 16.69%\n",
      "Number of 6s on 10000 rolls: 1648, or 16.48%\n"
     ]
    }
   ],
   "source": [
    "import random, time, math\n",
    "\n",
    "def d6():\n",
    "    return random.randint(1,6)\n",
    "\n",
    "def run_sim():\n",
    "    my_dic = {}\n",
    "\n",
    "    for i in range(10000):\n",
    "        num = d6()\n",
    "        if num not in my_dic:\n",
    "            my_dic[num] = 1\n",
    "        else:\n",
    "            my_dic[num] = my_dic[num] + 1\n",
    "\n",
    "    for number in sorted(my_dic):\n",
    "        print(f\"Number of {number}s on 10000 rolls: {my_dic[number]}, or {round(((my_dic[number])/10000)*100, 2)}%\")\n",
    "\n",
    "for i in range(3):\n",
    "    print(\"Simulation \" + str(i+1))\n",
    "    run_sim()"
   ]
  }
 ],
 "metadata": {
  "kernelspec": {
   "display_name": "Python 3",
   "language": "python",
   "name": "python3"
  },
  "language_info": {
   "codemirror_mode": {
    "name": "ipython",
    "version": 3
   },
   "file_extension": ".py",
   "mimetype": "text/x-python",
   "name": "python",
   "nbconvert_exporter": "python",
   "pygments_lexer": "ipython3",
   "version": "3.10.7 (v3.10.7:6cc6b13308, Sep  5 2022, 14:02:52) [Clang 13.0.0 (clang-1300.0.29.30)]"
  },
  "orig_nbformat": 4,
  "vscode": {
   "interpreter": {
    "hash": "aee8b7b246df8f9039afb4144a1f6fd8d2ca17a180786b69acc140d282b71a49"
   }
  }
 },
 "nbformat": 4,
 "nbformat_minor": 2
}
