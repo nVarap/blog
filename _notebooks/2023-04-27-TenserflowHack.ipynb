{
 "cells": [
  {
   "attachments": {},
   "cell_type": "markdown",
   "metadata": {},
   "source": [
    "1. Numpy and Pandas are powerful tools for data preprocessing in predictive analysis. Numpy can be used to perform mathematical operations on arrays and matrices, while Pandas can be used to manipulate and analyze structured data such as tables. Some common preprocessing tasks that can be performed with these tools include cleaning and formatting data, handling missing values, and transforming data into numerical formats suitable for machine learning algorithms.\n",
    "2. There are many different machine learning algorithms that can be used for predictive analysis, including linear regression, logistic regression, decision trees, random forests, neural networks, and support vector machines. These algorithms differ in their underlying mathematical models, complexity, and performance characteristics. For example, linear regression models assume a linear relationship between the input and output variables, while neural networks can model highly nonlinear relationships.\n",
    "3. Predictive analysis has many real-world applications across a variety of industries. Some examples include fraud detection in finance, predictive maintenance in manufacturing, demand forecasting in retail, and patient risk assessment in healthcare.\n",
    "4. Feature engineering is the process of selecting, extracting, and transforming relevant features from raw data to improve model accuracy. This can involve techniques such as feature scaling, dimensionality reduction, and feature selection. By carefully selecting and engineering features, it is often possible to improve model accuracy and reduce overfitting.\n",
    "5. Machine learning models can be deployed in real-time applications using a variety of technologies such as REST APIs, cloud platforms, and containerization. These technologies allow models to be deployed and scaled rapidly to meet the demands of real-world applications.\n",
    "6. Numpy and Pandas are very powerful tools, but they do have some limitations. For example, they may not be the best choice for working with extremely large datasets, or for performing complex statistical analyses. In such cases, other tools such as Apache Spark or R may be more appropriate.\n",
    "7. Predictive analysis can be used to improve decision-making and optimize business processes in a variety of ways. For example, it can help businesses identify high-risk customers, forecast demand for products, and optimize production schedules. By using data-driven insights to inform decisions, businesses can improve efficiency, reduce costs, and increase profitability."
   ]
  },
  {
   "attachments": {},
   "cell_type": "markdown",
   "metadata": {},
   "source": [
    "# The Scenario\n",
    "\n",
    "This model is used to predict the prices of houses in an area of California. This model is used by sellers to predict the prospective selling price of their house"
   ]
  },
  {
   "cell_type": "code",
   "execution_count": 2,
   "metadata": {},
   "outputs": [
    {
     "name": "stdout",
     "output_type": "stream",
     "text": [
      "[ 66200. 114800. 147200. 195800. 228200.]\n"
     ]
    }
   ],
   "source": [
    "import numpy as np\n",
    "from sklearn.linear_model import LinearRegression\n",
    "\n",
    "# Define the training data\n",
    "X_train = np.array([[1000], [1500], [2000], [2500], [3000]])\n",
    "y_train = np.array([50000, 75000, 150000, 180000, 200000])\n",
    "\n",
    "# Create and fit the linear regression model\n",
    "model = LinearRegression()\n",
    "model.fit(X_train, y_train)\n",
    "\n",
    "# Define the test data\n",
    "X_test = np.array([[1200], [1800], [2200], [2800], [3200]])\n",
    "\n",
    "# Make predictions on the test data\n",
    "y_pred = model.predict(X_test)\n",
    "\n",
    "# Print the predicted prices\n",
    "print(y_pred)\n"
   ]
  },
  {
   "attachments": {},
   "cell_type": "markdown",
   "metadata": {},
   "source": [
    "1. The two primary data structures in Pandas are Series and DataFrame. Series is a one-dimensional labeled array that can hold any data type, including integers, floats, strings, and Python objects. DataFrame is a two-dimensional labeled data structure with columns of potentially different types.\n",
    "2. To read a CSV file into a Pandas DataFrame, you can use the read_csv() function."
   ]
  },
  {
   "cell_type": "code",
   "execution_count": null,
   "metadata": {},
   "outputs": [],
   "source": [
    "import pandas as pd\n",
    "\n",
    "df = pd.read_csv(\"example_name.csv\")"
   ]
  },
  {
   "attachments": {},
   "cell_type": "markdown",
   "metadata": {},
   "source": [
    "3. To select a single column from a Pandas DataFrame, you can use the indexing operator [] with the name of the column."
   ]
  },
  {
   "cell_type": "code",
   "execution_count": null,
   "metadata": {},
   "outputs": [],
   "source": [
    "age_column = df[\"age\"]"
   ]
  },
  {
   "attachments": {},
   "cell_type": "markdown",
   "metadata": {},
   "source": [
    "4. To filter rows in a Pandas DataFrame based on a condition, you can use boolean indexing. "
   ]
  },
  {
   "cell_type": "code",
   "execution_count": null,
   "metadata": {},
   "outputs": [],
   "source": [
    "filtered_df = df[df[\"age\"] > 30]"
   ]
  },
  {
   "attachments": {},
   "cell_type": "markdown",
   "metadata": {},
   "source": [
    "5.  To group rows in a Pandas DataFrame by a particular column, you can use the groupby() function."
   ]
  },
  {
   "cell_type": "code",
   "execution_count": null,
   "metadata": {},
   "outputs": [],
   "source": [
    "grouped_df = df.groupby(\"gender\")"
   ]
  },
  {
   "attachments": {},
   "cell_type": "markdown",
   "metadata": {},
   "source": [
    "6. To aggregate data in a Pandas DataFrame using functions like sum and mean, you can use the agg() function. For example, to calculate the sum and mean of the \"age\" column for each group in a grouped DataFrame named grouped_df, you can use the following code:"
   ]
  },
  {
   "cell_type": "code",
   "execution_count": null,
   "metadata": {},
   "outputs": [],
   "source": [
    "aggregated_df = grouped_df.agg({\"age\": [\"sum\", \"mean\"]})"
   ]
  },
  {
   "attachments": {},
   "cell_type": "markdown",
   "metadata": {},
   "source": [
    "7. To handle missing values in a Pandas DataFrame, you can use the fillna() function to fill the missing values with a specific value or method, or use the dropna() function to remove rows or columns that contain missing values.\n",
    "8. To merge two Pandas DataFrames together, you can use the merge() function."
   ]
  },
  {
   "cell_type": "code",
   "execution_count": null,
   "metadata": {},
   "outputs": [],
   "source": [
    "merged_df = pd.merge(df1, df2, on=\"id\")"
   ]
  },
  {
   "attachments": {},
   "cell_type": "markdown",
   "metadata": {},
   "source": [
    "9. To export a Pandas DataFrame to a CSV file, you can use the to_csv() function. For example, to export a DataFrame named df to a file named output.csv located in the current directory, you can use the following code:"
   ]
  },
  {
   "cell_type": "code",
   "execution_count": null,
   "metadata": {},
   "outputs": [],
   "source": [
    "df.to_csv(\"output.csv\", index=False)"
   ]
  },
  {
   "attachments": {},
   "cell_type": "markdown",
   "metadata": {},
   "source": [
    "10. The main difference between a Series and a DataFrame in Pandas is that a Series is a one-dimensional labeled array, while a DataFrame is a two-dimensional labeled data structure with columns of potentially different types. A DataFrame can be thought of as a collection of Series objects, where each column represents a Series."
   ]
  }
 ],
 "metadata": {
  "kernelspec": {
   "display_name": "base",
   "language": "python",
   "name": "python3"
  },
  "language_info": {
   "codemirror_mode": {
    "name": "ipython",
    "version": 3
   },
   "file_extension": ".py",
   "mimetype": "text/x-python",
   "name": "python",
   "nbconvert_exporter": "python",
   "pygments_lexer": "ipython3",
   "version": "3.9.12"
  },
  "orig_nbformat": 4
 },
 "nbformat": 4,
 "nbformat_minor": 2
}
