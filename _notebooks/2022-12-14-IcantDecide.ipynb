{
 "cells": [
  {
   "attachments": {},
   "cell_type": "markdown",
   "metadata": {},
   "source": [
    "# Sections 17-18\n",
    "> Section 17-18\n",
    "- toc: true\n",
    "- comments: true\n",
    "- permalink: /Hacks/undeci\n",
    "- categories: [Hacks]\n",
    "- tags: [Week 16]\n",
    "- image: images/pythonlogo.png"
   ]
  },
  {
   "attachments": {},
   "cell_type": "markdown",
   "metadata": {},
   "source": [
    "# 3.17"
   ]
  },
  {
   "attachments": {},
   "cell_type": "markdown",
   "metadata": {},
   "source": [
    "## Vocab\n",
    "- Problem: description of a task that may or may not be able to be solved through the use of an algorithm\n",
    "- Decision problem: A problem with a binary answer\n",
    "- Algorithm: A series of ways to solve a problem. Process or a set of rules\n",
    "    - 1, 2, 3, and 4 step\n",
    "    - 1: Linear\n",
    "    - 2: Exponential\n",
    "    - 3: Square\n",
    "    - 4: Factorial\n",
    "- Superpolynomial: Offers an incredibly small amount of data incredibly large amounts of time."
   ]
  },
  {
   "attachments": {},
   "cell_type": "markdown",
   "metadata": {},
   "source": [
    "## Essential Knowledge\n",
    "\n",
    "- A problem is a description of a task that may or may not be able to be solved through the use of an algorithm. An instance of a problem includes a specific input. One example of this type of problem is a sorting problem.\n",
    "- A decision problem is a problem with a binary answer (yes or no). An optimization problem is a problem with the objective of finding the BEST solution amongst many possibilities to solve a problem.\n",
    "- An algorithm's efficiency is determine through formal or mathematical reasoning."
   ]
  },
  {
   "attachments": {},
   "cell_type": "markdown",
   "metadata": {},
   "source": [
    "## Algorithm 1 vs Algorithm 2\n",
    "\n",
    "- Algorithm 2 is much more efficient\n",
    "- Less comparison/less swaps is far more **Efficient**\n",
    "- Linear and square algorithms run at a `reasonable amount of time`\n",
    "    - Reasonable time is much more *reasonable*"
   ]
  },
  {
   "attachments": {},
   "cell_type": "markdown",
   "metadata": {},
   "source": [
    "## Runtime\n",
    "- Constant time, time is always constant, regardless of input size\n",
    "- Linear time: Increases in direct proportionality to one another\n",
    "- Quadratic time: Increase in proportion to the item squared\n",
    "- Exponential time: Its time increases faster than the polynomial function of the input step."
   ]
  },
  {
   "attachments": {},
   "cell_type": "markdown",
   "metadata": {},
   "source": [
    "# 3.18: Undecidable and Decideable Problems"
   ]
  },
  {
   "attachments": {},
   "cell_type": "markdown",
   "metadata": {},
   "source": [
    "# Vocab: \n",
    "- Decidable problems: You can develop an algorithm for these problems, specifically yes or no\n",
    "- Undecidable problem: No algorithm can be used in order to provide a correct yes or no problems. "
   ]
  },
  {
   "attachments": {},
   "cell_type": "markdown",
   "metadata": {},
   "source": [
    "## Undecidable Problem: \n",
    "\n",
    "```python\n",
    "# given a computer program and an input... \n",
    "# will the program terminate or will it run forever?\n",
    "\n",
    "x = input()\n",
    "while x:\n",
    "    pass\n",
    "\n",
    "# this reads the input, \n",
    "# and if it's not empty, the procedure loops forever.\n",
    "```\n",
    "\n",
    "Far more theoretical than a decidable problem, such as paradoxes"
   ]
  },
  {
   "attachments": {},
   "cell_type": "markdown",
   "metadata": {},
   "source": [
    "## Practice: \n",
    "1. An undecidable problem may only solve for only one input, but not every instance. \n",
    "2. True, because you can use one operator to check\n",
    "3. True, because it is again a simple comparison"
   ]
  },
  {
   "attachments": {},
   "cell_type": "markdown",
   "metadata": {},
   "source": [
    "# Hacks"
   ]
  },
  {
   "attachments": {},
   "cell_type": "markdown",
   "metadata": {},
   "source": [
    "1. An undecidable problem is a problem for which you cannot write an algorithm to return a binary answer for *every instance* of the problem. You may be able to write an algorithm for one instance, but not all of them. A decidable problem can have a binary algorithm written for every single instance of the problem. \n",
    "2. 3 step problem is C, because it is (3 x 8)^2 is (x * y)^2, or a square.\n"
   ]
  },
  {
   "attachments": {},
   "cell_type": "markdown",
   "metadata": {},
   "source": [
    "3. Efficiency of the following algorithm\n",
    "\n",
    "```javascript\n",
    "var peakFinder = function(array) {\n",
    "  var result = [];\n",
    "  _.each(array, function(val,key,col){\n",
    "    if(col[key+1] < val && col[key-1] < val) {\n",
    "      result.push([key,val]);\n",
    "    }\n",
    "  });\n",
    "  return result.length ? result : false;\n",
    "};\n",
    "```"
   ]
  },
  {
   "attachments": {},
   "cell_type": "markdown",
   "metadata": {},
   "source": [
    "4. Efficiency to the Following Algorithm"
   ]
  },
  {
   "cell_type": "code",
   "execution_count": 15,
   "metadata": {},
   "outputs": [
    {
     "name": "stdout",
     "output_type": "stream",
     "text": [
      "Given array is [59, 8, 29, 81, 76, 52, 56, 20, 18, 95, 99, 6, 1, 43, 30, 6, 95, 95, 94, 69, 26, 79, 10, 51, 65, 28, 84, 38, 40, 21, 15, 39, 19, 82, 61, 87, 51, 9, 68, 12, 44, 90, 38, 89, 60, 17, 26, 31, 89, 39, 51, 62, 45, 95, 20, 67, 49, 99, 13, 29, 35, 84, 22, 83, 36, 72, 5, 100, 52, 44, 70, 89, 98, 97, 51, 58, 30, 16, 61, 11, 82, 3, 18, 80, 85, 64, 77, 58, 46, 100, 59, 44, 98, 68, 17, 84, 8, 54, 65, 23]\n",
      "Sorted array is: [1, 3, 5, 6, 6, 8, 8, 9, 10, 11, 12, 13, 15, 16, 17, 17, 18, 18, 19, 20, 20, 21, 22, 23, 26, 26, 28, 29, 29, 30, 30, 31, 35, 36, 38, 38, 39, 39, 40, 43, 44, 44, 44, 45, 46, 49, 51, 51, 51, 51, 52, 52, 54, 56, 58, 58, 59, 59, 60, 61, 61, 62, 64, 65, 65, 67, 68, 68, 69, 70, 72, 76, 77, 79, 80, 81, 82, 82, 83, 84, 84, 84, 85, 87, 89, 89, 89, 90, 94, 95, 95, 95, 95, 97, 98, 98, 99, 99, 100, 100]\n"
     ]
    }
   ],
   "source": [
    "def mergeSort(lst): # redoing merge sort\n",
    "    if len(lst) > 1:\n",
    "        mid = len(lst)//2\n",
    "        left = lst[:mid]\n",
    "        right = lst[mid:]\n",
    "        mergeSort(left) \n",
    "        mergeSort(right) # recursively get the most atomic (single) forms of the \n",
    "\n",
    "        iLeft = 0 # list of items on the right array\n",
    "        iRight = 0 # list of items on the left array\n",
    "        iCheck = 0 # checks on the main array, used to place into\n",
    "\n",
    "        while iLeft < len(left) and iRight < len(right):\n",
    "            if left[iLeft] <= right[iRight]: \n",
    "                lst[iCheck] = left[iLeft] # if the right is larger, the left goes in \n",
    "                iLeft += 1\n",
    "            else:\n",
    "                lst[iCheck] = right[iRight] # otherwise the right\n",
    "                iRight += 1\n",
    "            iCheck += 1\n",
    " \n",
    "        # Checking if any element was left\n",
    "        while iLeft < len(left):\n",
    "            lst[iCheck] = left[iLeft]\n",
    "            iLeft += 1\n",
    "            iCheck += 1\n",
    " \n",
    "        while iRight < len(right):\n",
    "            lst[iCheck] = right[iRight]\n",
    "            iRight += 1\n",
    "            iCheck += 1\n",
    " \n",
    "if __name__ == '__main__':\n",
    "    import random\n",
    "    outarray = [random.randint(1, 100) for x in range(100)]\n",
    "    print(f\"Given array is {outarray}\")\n",
    "    mergeSort(outarray)\n",
    "    print(f\"Sorted array is: {outarray}\")\n"
   ]
  },
  {
   "attachments": {},
   "cell_type": "markdown",
   "metadata": {},
   "source": [
    "5. Efficiency to the Following Hacks"
   ]
  },
  {
   "cell_type": "code",
   "execution_count": 19,
   "metadata": {},
   "outputs": [
    {
     "name": "stdout",
     "output_type": "stream",
     "text": [
      "['Never', 'Gonna', 'Give', 'You', 'Up']\n",
      "['Never', 'Gonna', 'Give', 'Up', 'You']\n",
      "['Never', 'Gonna', 'You', 'Give', 'Up']\n",
      "['Never', 'Gonna', 'You', 'Up', 'Give']\n",
      "['Never', 'Gonna', 'Up', 'Give', 'You']\n",
      "['Never', 'Gonna', 'Up', 'You', 'Give']\n",
      "['Never', 'Give', 'Gonna', 'You', 'Up']\n",
      "['Never', 'Give', 'Gonna', 'Up', 'You']\n",
      "['Never', 'Give', 'You', 'Gonna', 'Up']\n",
      "['Never', 'Give', 'You', 'Up', 'Gonna']\n",
      "['Never', 'Give', 'Up', 'Gonna', 'You']\n",
      "['Never', 'Give', 'Up', 'You', 'Gonna']\n",
      "['Never', 'You', 'Gonna', 'Give', 'Up']\n",
      "['Never', 'You', 'Gonna', 'Up', 'Give']\n",
      "['Never', 'You', 'Give', 'Gonna', 'Up']\n",
      "['Never', 'You', 'Give', 'Up', 'Gonna']\n",
      "['Never', 'You', 'Up', 'Gonna', 'Give']\n",
      "['Never', 'You', 'Up', 'Give', 'Gonna']\n",
      "['Never', 'Up', 'Gonna', 'Give', 'You']\n",
      "['Never', 'Up', 'Gonna', 'You', 'Give']\n",
      "['Never', 'Up', 'Give', 'Gonna', 'You']\n",
      "['Never', 'Up', 'Give', 'You', 'Gonna']\n",
      "['Never', 'Up', 'You', 'Gonna', 'Give']\n",
      "['Never', 'Up', 'You', 'Give', 'Gonna']\n",
      "['Gonna', 'Never', 'Give', 'You', 'Up']\n",
      "['Gonna', 'Never', 'Give', 'Up', 'You']\n",
      "['Gonna', 'Never', 'You', 'Give', 'Up']\n",
      "['Gonna', 'Never', 'You', 'Up', 'Give']\n",
      "['Gonna', 'Never', 'Up', 'Give', 'You']\n",
      "['Gonna', 'Never', 'Up', 'You', 'Give']\n",
      "['Gonna', 'Give', 'Never', 'You', 'Up']\n",
      "['Gonna', 'Give', 'Never', 'Up', 'You']\n",
      "['Gonna', 'Give', 'You', 'Never', 'Up']\n",
      "['Gonna', 'Give', 'You', 'Up', 'Never']\n",
      "['Gonna', 'Give', 'Up', 'Never', 'You']\n",
      "['Gonna', 'Give', 'Up', 'You', 'Never']\n",
      "['Gonna', 'You', 'Never', 'Give', 'Up']\n",
      "['Gonna', 'You', 'Never', 'Up', 'Give']\n",
      "['Gonna', 'You', 'Give', 'Never', 'Up']\n",
      "['Gonna', 'You', 'Give', 'Up', 'Never']\n",
      "['Gonna', 'You', 'Up', 'Never', 'Give']\n",
      "['Gonna', 'You', 'Up', 'Give', 'Never']\n",
      "['Gonna', 'Up', 'Never', 'Give', 'You']\n",
      "['Gonna', 'Up', 'Never', 'You', 'Give']\n",
      "['Gonna', 'Up', 'Give', 'Never', 'You']\n",
      "['Gonna', 'Up', 'Give', 'You', 'Never']\n",
      "['Gonna', 'Up', 'You', 'Never', 'Give']\n",
      "['Gonna', 'Up', 'You', 'Give', 'Never']\n",
      "['Give', 'Never', 'Gonna', 'You', 'Up']\n",
      "['Give', 'Never', 'Gonna', 'Up', 'You']\n",
      "['Give', 'Never', 'You', 'Gonna', 'Up']\n",
      "['Give', 'Never', 'You', 'Up', 'Gonna']\n",
      "['Give', 'Never', 'Up', 'Gonna', 'You']\n",
      "['Give', 'Never', 'Up', 'You', 'Gonna']\n",
      "['Give', 'Gonna', 'Never', 'You', 'Up']\n",
      "['Give', 'Gonna', 'Never', 'Up', 'You']\n",
      "['Give', 'Gonna', 'You', 'Never', 'Up']\n",
      "['Give', 'Gonna', 'You', 'Up', 'Never']\n",
      "['Give', 'Gonna', 'Up', 'Never', 'You']\n",
      "['Give', 'Gonna', 'Up', 'You', 'Never']\n",
      "['Give', 'You', 'Never', 'Gonna', 'Up']\n",
      "['Give', 'You', 'Never', 'Up', 'Gonna']\n",
      "['Give', 'You', 'Gonna', 'Never', 'Up']\n",
      "['Give', 'You', 'Gonna', 'Up', 'Never']\n",
      "['Give', 'You', 'Up', 'Never', 'Gonna']\n",
      "['Give', 'You', 'Up', 'Gonna', 'Never']\n",
      "['Give', 'Up', 'Never', 'Gonna', 'You']\n",
      "['Give', 'Up', 'Never', 'You', 'Gonna']\n",
      "['Give', 'Up', 'Gonna', 'Never', 'You']\n",
      "['Give', 'Up', 'Gonna', 'You', 'Never']\n",
      "['Give', 'Up', 'You', 'Never', 'Gonna']\n",
      "['Give', 'Up', 'You', 'Gonna', 'Never']\n",
      "['You', 'Never', 'Gonna', 'Give', 'Up']\n",
      "['You', 'Never', 'Gonna', 'Up', 'Give']\n",
      "['You', 'Never', 'Give', 'Gonna', 'Up']\n",
      "['You', 'Never', 'Give', 'Up', 'Gonna']\n",
      "['You', 'Never', 'Up', 'Gonna', 'Give']\n",
      "['You', 'Never', 'Up', 'Give', 'Gonna']\n",
      "['You', 'Gonna', 'Never', 'Give', 'Up']\n",
      "['You', 'Gonna', 'Never', 'Up', 'Give']\n",
      "['You', 'Gonna', 'Give', 'Never', 'Up']\n",
      "['You', 'Gonna', 'Give', 'Up', 'Never']\n",
      "['You', 'Gonna', 'Up', 'Never', 'Give']\n",
      "['You', 'Gonna', 'Up', 'Give', 'Never']\n",
      "['You', 'Give', 'Never', 'Gonna', 'Up']\n",
      "['You', 'Give', 'Never', 'Up', 'Gonna']\n",
      "['You', 'Give', 'Gonna', 'Never', 'Up']\n",
      "['You', 'Give', 'Gonna', 'Up', 'Never']\n",
      "['You', 'Give', 'Up', 'Never', 'Gonna']\n",
      "['You', 'Give', 'Up', 'Gonna', 'Never']\n",
      "['You', 'Up', 'Never', 'Gonna', 'Give']\n",
      "['You', 'Up', 'Never', 'Give', 'Gonna']\n",
      "['You', 'Up', 'Gonna', 'Never', 'Give']\n",
      "['You', 'Up', 'Gonna', 'Give', 'Never']\n",
      "['You', 'Up', 'Give', 'Never', 'Gonna']\n",
      "['You', 'Up', 'Give', 'Gonna', 'Never']\n",
      "['Up', 'Never', 'Gonna', 'Give', 'You']\n",
      "['Up', 'Never', 'Gonna', 'You', 'Give']\n",
      "['Up', 'Never', 'Give', 'Gonna', 'You']\n",
      "['Up', 'Never', 'Give', 'You', 'Gonna']\n",
      "['Up', 'Never', 'You', 'Gonna', 'Give']\n",
      "['Up', 'Never', 'You', 'Give', 'Gonna']\n",
      "['Up', 'Gonna', 'Never', 'Give', 'You']\n",
      "['Up', 'Gonna', 'Never', 'You', 'Give']\n",
      "['Up', 'Gonna', 'Give', 'Never', 'You']\n",
      "['Up', 'Gonna', 'Give', 'You', 'Never']\n",
      "['Up', 'Gonna', 'You', 'Never', 'Give']\n",
      "['Up', 'Gonna', 'You', 'Give', 'Never']\n",
      "['Up', 'Give', 'Never', 'Gonna', 'You']\n",
      "['Up', 'Give', 'Never', 'You', 'Gonna']\n",
      "['Up', 'Give', 'Gonna', 'Never', 'You']\n",
      "['Up', 'Give', 'Gonna', 'You', 'Never']\n",
      "['Up', 'Give', 'You', 'Never', 'Gonna']\n",
      "['Up', 'Give', 'You', 'Gonna', 'Never']\n",
      "['Up', 'You', 'Never', 'Gonna', 'Give']\n",
      "['Up', 'You', 'Never', 'Give', 'Gonna']\n",
      "['Up', 'You', 'Gonna', 'Never', 'Give']\n",
      "['Up', 'You', 'Gonna', 'Give', 'Never']\n",
      "['Up', 'You', 'Give', 'Never', 'Gonna']\n",
      "['Up', 'You', 'Give', 'Gonna', 'Never']\n"
     ]
    }
   ],
   "source": [
    "def runPermutations(lst, output = []):\n",
    "    if len(lst) == 0: \n",
    "        print(output) # prints the output if the max distance of the list is 0 (we've fully converted the permutation from the start to the end)\n",
    "        return # exit out of function\n",
    "    else:\n",
    "        for i in range(len(lst)):  # otherwise, we stil have not made a permutation\n",
    "            runPermutations(lst[:i]+lst[i+1:], output+lst[i:i+1])\n",
    "            # run the permutation creation again, using i (an index)\n",
    "            # Take slice of list to i, then the slice of i after, and set that as start, then take output be the rest of the list, whatever's in between\n",
    "\n",
    "runPermutations([\"Never\", \"Gonna\", \"Give\", \"You\", \"Up\"]) # run func\n",
    "# Todo: Check what a \"recursionError\" is and why it matters"
   ]
  }
 ],
 "metadata": {
  "kernelspec": {
   "display_name": "Python 3",
   "language": "python",
   "name": "python3"
  },
  "language_info": {
   "codemirror_mode": {
    "name": "ipython",
    "version": 3
   },
   "file_extension": ".py",
   "mimetype": "text/x-python",
   "name": "python",
   "nbconvert_exporter": "python",
   "pygments_lexer": "ipython3",
   "version": "3.10.7"
  },
  "orig_nbformat": 4,
  "vscode": {
   "interpreter": {
    "hash": "aee8b7b246df8f9039afb4144a1f6fd8d2ca17a180786b69acc140d282b71a49"
   }
  }
 },
 "nbformat": 4,
 "nbformat_minor": 2
}
