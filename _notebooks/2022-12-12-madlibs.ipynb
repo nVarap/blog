{
 "cells": [
  {
   "attachments": {},
   "cell_type": "markdown",
   "metadata": {},
   "source": [
    "# Sections 14-15\n",
    "> Section 14 and 15 Hacks\n",
    "- toc: true\n",
    "- comments: true\n",
    "- permalink: /Hacks/madlibs\n",
    "- categories: [Hacks, Algorithm]\n",
    "- tags: [Week 16]\n",
    "- image: images/pythonlogo.png"
   ]
  },
  {
   "attachments": {},
   "cell_type": "markdown",
   "metadata": {},
   "source": [
    "# Section 14"
   ]
  },
  {
   "attachments": {},
   "cell_type": "markdown",
   "metadata": {},
   "source": [
    "## Vocab\n",
    "- Documentation: The what, how, or why of the code\n",
    "- Libraries: Prewritten code or procedures that can be used to maximize efficiency\n",
    "- API: Data stored in a database that can be accessed via code"
   ]
  },
  {
   "attachments": {},
   "cell_type": "markdown",
   "metadata": {},
   "source": [
    "## Documentation\n",
    "Comments, notes, etc. <br>\n",
    "**Talk about function, parameters, and uses**."
   ]
  },
  {
   "cell_type": "code",
   "execution_count": 1,
   "metadata": {},
   "outputs": [
    {
     "name": "stdout",
     "output_type": "stream",
     "text": [
      "hello World\n"
     ]
    }
   ],
   "source": [
    "'''\n",
    "function print(string)\n",
    "displays string in terminal\n",
    "\n",
    "::param string:: an object of string type\n",
    "'''\n",
    "print(\"hello World\")"
   ]
  },
  {
   "attachments": {},
   "cell_type": "markdown",
   "metadata": {},
   "source": [
    "## Practice Problems: Section 14\n",
    "- Number 2: it is the only one that actually calculates GPA\n",
    "- Number 3: It doesn't actually select a restaurant, only display the menu items on it"
   ]
  },
  {
   "attachments": {},
   "cell_type": "markdown",
   "metadata": {},
   "source": [
    "# Section 15: Randomness"
   ]
  },
  {
   "attachments": {},
   "cell_type": "markdown",
   "metadata": {},
   "source": [
    "## Necessities\n",
    "\n",
    "`RANDOM(a, b)` - which generates and returns a random integer from a to b, inclusive. Each result is equally likely to occur. \n",
    "For example, random(1,3) could return 1, 2, or 3. \n",
    "\n",
    "**YOU CAN ALSO ADD THESE UP**\n",
    "random(0,2)+random(3,4) = possibilities through 0, 1, 2, 3, 4, 5, 6"
   ]
  },
  {
   "attachments": {},
   "cell_type": "markdown",
   "metadata": {},
   "source": [
    "## Practice Problems\n",
    "answer1 = random(0,2) <br>\n",
    "answer2 = random(1,5)  <br>\n",
    "answer3 = answer1 + answer2 \n",
    "\n",
    "range: [1, 2, 3, 4, 5, 6, 7]\n",
    "<br>\n",
    "\n",
    "**RNGs Question** <br>\n",
    "Answer: C, because it does a random number (1,6), 3 times, and this amount added would be the simulation a dice roll 3 times\n",
    "<br>\n",
    "\n",
    "**Random Function**\n",
    "Answer: C, because since the initial value of i is two, we cannot get 3 from the random function.\n"
   ]
  },
  {
   "attachments": {},
   "cell_type": "markdown",
   "metadata": {},
   "source": [
    "# Random Values Pt 1/2"
   ]
  },
  {
   "attachments": {},
   "cell_type": "markdown",
   "metadata": {},
   "source": [
    "## Practice\n",
    "1. Incomplete code section\n",
    "- **1** and **4**, because both need to be equal in order to ensure 75% probability\n",
    "2. Points and Rows\n",
    "- Today I learned I cannot read tables\n",
    "- Secondly, the answer is 3, because it can take all 3 rows (all the way down) and 2 columns (so two across)."
   ]
  },
  {
   "cell_type": "code",
   "execution_count": 10,
   "metadata": {},
   "outputs": [
    {
     "name": "stdout",
     "output_type": "stream",
     "text": [
      "7\n",
      "7\n",
      "28\n",
      "25\n",
      "23\n",
      "starting randrange\n",
      "51\n",
      "71\n",
      "71\n",
      "91\n",
      "91\n"
     ]
    }
   ],
   "source": [
    "# Random Library: randint/randrange\n",
    "import random\n",
    "for i in range(5):\n",
    "    integer = random.randint(1, 34)\n",
    "    print(integer)\n",
    "\n",
    "print('starting randrange')\n",
    "\n",
    "for i in range(5):\n",
    "    int2 = random.randrange(1, 100, 10)\n",
    "    print(int2)"
   ]
  },
  {
   "cell_type": "code",
   "execution_count": 5,
   "metadata": {},
   "outputs": [
    {
     "name": "stdout",
     "output_type": "stream",
     "text": [
      "why\n",
      "why\n",
      "this\n",
      "world\n"
     ]
    }
   ],
   "source": [
    "# Random library: choice\n",
    "hello = \"Hello world why must this occur constantly\"\n",
    "\n",
    "lst = [x for x in hello.split()]\n",
    "\n",
    "for i in range(4):\n",
    "    choice = random.choice(lst)\n",
    "    print(choice)\n"
   ]
  },
  {
   "cell_type": "code",
   "execution_count": 7,
   "metadata": {},
   "outputs": [
    {
     "name": "stdout",
     "output_type": "stream",
     "text": [
      "List before mutation: ['Hello', 'world', 'why', 'must', 'this', 'occur', 'constantly']\n",
      "List after mutation 1, ['this', 'constantly', 'occur', 'why', 'world', 'Hello', 'must']\n",
      "List after mutation 2, ['occur', 'must', 'this', 'world', 'why', 'Hello', 'constantly']\n",
      "List after mutation 3, ['occur', 'constantly', 'why', 'must', 'world', 'this', 'Hello']\n",
      "List after mutation 4, ['occur', 'Hello', 'must', 'this', 'constantly', 'world', 'why']\n",
      "List after mutation 5, ['this', 'why', 'occur', 'Hello', 'constantly', 'world', 'must']\n"
     ]
    }
   ],
   "source": [
    "# Random library: choice\n",
    "hello = \"Hello world why must this occur constantly\"\n",
    "\n",
    "lst = [x for x in hello.split()]\n",
    "\n",
    "print(f\"List before mutation: {lst}\")\n",
    "for i in range(5):\n",
    "    random.shuffle(lst)\n",
    "    print(f\"List after mutation {i+1}, {lst}\")\n"
   ]
  },
  {
   "attachments": {},
   "cell_type": "markdown",
   "metadata": {},
   "source": [
    "# Hacks\n",
    " 1. Reflection: today I learned about how libraries work and the random library in python. I learned about how the random library can be used to create new and novel code. Libraries are pre-coded, and I should use them in my code. Similarly, we can use APIs in our code to skip collecting data ourselves or storing it for it to be flexibly used. "
   ]
  },
  {
   "attachments": {},
   "cell_type": "markdown",
   "metadata": {},
   "source": [
    "2. Multiple Choice Questions\n",
    "\n",
    "| Question | Answer |\n",
    "| -------- | ------ |\n",
    "| 1 | B, the random function returns a random integer between a and b, inclusive, as seen in the practice problems |\n",
    "| 2 | A, when you type `random.randrange` into the code debugger or search it up, it is clear to see that random.randrange's parameters are positionally `start, stop, and step`. | \n",
    "| 3 | A. random.item is not a method in the random library, as seen when you use `dir(random)` | \n"
   ]
  },
  {
   "attachments": {},
   "cell_type": "markdown",
   "metadata": {},
   "source": [
    "3. SEQ\n",
    "\n",
    "**A.** The advantage of using libraries is using high-level, well tested code at an instant, that doesn't require people to write it themselves or to have to test it. As a result libraries expedite coding. It also allows for flexible usage of the code you have written on your own.\n",
    "<br> \n",
    "**B.**"
   ]
  },
  {
   "cell_type": "code",
   "execution_count": 11,
   "metadata": {},
   "outputs": [
    {
     "name": "stdout",
     "output_type": "stream",
     "text": [
      " HIT THE GRIDDY is going to buy the meal today!\n"
     ]
    }
   ],
   "source": [
    "import random \n",
    "# Import the random library\n",
    "\n",
    "names_string = input(\"Give me everybody's names, seperated by a comma.\")\n",
    "# gets the names of \"everybody\" and then splits them into a list using the .split() method\n",
    "names = names_string.split(\",\")\n",
    "\n",
    "num_items = len(names) # Finds the number of items through the length of the names list\n",
    "\n",
    "random_choice = random.randint(0, num_items - 1) \n",
    "# gets a random integer using the randint() function, choosing 0 (the first element) and \n",
    "# Numitems-1 (the last index, because of 0 base indexing everything moves back one hence the -1)\n",
    "\n",
    "person_who_will_pay = names[random_choice] # assigns whoever to pay with the random choice\n",
    "\n",
    "print(f\"{person_who_will_pay} is going to buy the meal today!\")\n",
    "# Displays the person_who_will_pay variable, an element in the names list."
   ]
  },
  {
   "attachments": {},
   "cell_type": "markdown",
   "metadata": {},
   "source": [
    "4. Tasks: \n",
    "\n",
    "- **Number 1: Create code that picks out a name from a list of 15**"
   ]
  },
  {
   "cell_type": "code",
   "execution_count": 23,
   "metadata": {},
   "outputs": [
    {
     "name": "stdout",
     "output_type": "stream",
     "text": [
      "Madison\n",
      "Nevaeh\n",
      "martha\n"
     ]
    }
   ],
   "source": [
    "import random\n",
    "\n",
    "lst = [\"Nevaeh\", \"Destiny\", \"Madison\",\"Mackenzie\", \"McKenna\", \"Jayden\", \"Brayden\",\"Aiden\", \"Kaden\", 'Hunter', \"madden\", \"martha\", \"mickey\", \"joe\", \"obama\"]\n",
    "\n",
    "for i in range(3):\n",
    "    print(random.choice(lst))\n",
    "\n"
   ]
  },
  {
   "cell_type": "code",
   "execution_count": 1,
   "metadata": {},
   "outputs": [
    {
     "name": "stdout",
     "output_type": "stream",
     "text": [
      "First player rolls: 5 and 3: total 8\n",
      "Second player rolls: 4 and 5: total 9\n",
      "player 2 wins\n"
     ]
    }
   ],
   "source": [
    "import random\n",
    "i1 = random.randrange(1, 6)\n",
    "i2 = random.randrange(1,6)\n",
    "print(f\"First player rolls: {i1} and {i2}: total {i1+i2}\")\n",
    "\n",
    "i3 = random.randrange(1, 6)\n",
    "i4 = random.randrange(1, 6)\n",
    "print(f\"Second player rolls: {i3} and {i4}: total {i3+i4}\")\n",
    "\n",
    "if (i1+i2 > i3 + i4):\n",
    "    print(\"player 1 wins\")\n",
    "elif (i1+i2 < i3 + i4):\n",
    "    print(\"player 2 wins\")\n",
    "else: \n",
    "    print('draw')"
   ]
  },
  {
   "cell_type": "code",
   "execution_count": null,
   "metadata": {},
   "outputs": [],
   "source": [
    "import random\n",
    "i1 = random.randrange(1, 6)\n",
    "i2 = random.randrange(1,6)\n",
    "print(f\"First player rolls: {i1} and {i2}: total {i1+i2}\")\n",
    "\n",
    "i3 = random.randrange(1, 6)\n",
    "i4 = random.randrange(1, 6)\n",
    "print(f\"Second player rolls: {i3} and {i4}: total {i3+i4}\")\n",
    "\n",
    "if (i1+i2 > i3 + i4):\n",
    "    print(\"player 1 wins\")\n",
    "elif (i1+i2 < i3 + i4):\n",
    "    print(\"player 2 wins\")\n",
    "else: \n",
    "    print('draw')"
   ]
  },
  {
   "attachments": {},
   "cell_type": "markdown",
   "metadata": {},
   "source": [
    "# Hacks: Extra Credit"
   ]
  },
  {
   "cell_type": "code",
   "execution_count": 67,
   "metadata": {},
   "outputs": [
    {
     "name": "stdout",
     "output_type": "stream",
     "text": [
      "<class 'list'>\n",
      "legend: Walls = black, spaces = white, goal = green, red triangle = player\n"
     ]
    },
    {
     "data": {
      "image/png": "[encoded data removed]",
      "text/plain": [
       "<PIL.Image.Image image mode=RGB size=500x500>"
      ]
     },
     "metadata": {},
     "output_type": "display_data"
    },
    {
     "name": "stdout",
     "output_type": "stream",
     "text": [
      "<class 'list'>\n",
      "legend: Walls = black, spaces = white, goal = green, red triangle = player\n"
     ]
    },
    {
     "data": {
      "image/png": "[encoded data removed]",
      "text/plain": [
       "<PIL.Image.Image image mode=RGB size=500x500>"
      ]
     },
     "metadata": {},
     "output_type": "display_data"
    },
    {
     "name": "stdout",
     "output_type": "stream",
     "text": [
      "<class 'list'>\n",
      "legend: Walls = black, spaces = white, goal = green, red triangle = player\n"
     ]
    },
    {
     "data": {
      "image/png": "[encoded data removed]",
      "text/plain": [
       "<PIL.Image.Image image mode=RGB size=500x500>"
      ]
     },
     "metadata": {},
     "output_type": "display_data"
    },
    {
     "name": "stdout",
     "output_type": "stream",
     "text": [
      "<class 'list'>\n",
      "legend: Walls = black, spaces = white, goal = green, red triangle = player\n"
     ]
    },
    {
     "data": {
      "image/png": "[encoded data removed]",
      "text/plain": [
       "<PIL.Image.Image image mode=RGB size=500x500>"
      ]
     },
     "metadata": {},
     "output_type": "display_data"
    },
    {
     "name": "stdout",
     "output_type": "stream",
     "text": [
      "<class 'list'>\n",
      "legend: Walls = black, spaces = white, goal = green, red triangle = player\n"
     ]
    },
    {
     "data": {
      "image/png": "[encoded data removed]",
      "text/plain": [
       "<PIL.Image.Image image mode=RGB size=500x500>"
      ]
     },
     "metadata": {},
     "output_type": "display_data"
    }
   ],
   "source": [
    "from PIL import Image\n",
    "import random, PIL \n",
    "# ^ import libraries\n",
    "\n",
    "def returnGoalAndRobot(): # returns the robot, oriented at a random position\n",
    "    lst = [0, 90, 180, 270]\n",
    "    im = Image.open(\"../images/sprite.png\") # stored in house\n",
    "    im2 = Image.new('RGB',(100, 100),(0,255,0))\n",
    "    return (im.rotate(float(random.choice(lst))), im2) # returns the image, rotated\n",
    "\n",
    "def all_same(TwoDMatrix): # contingency, checks to make sure all have the same length\n",
    "    try:\n",
    "        constant = len(TwoDMatrix[0])\n",
    "        for array in TwoDMatrix:\n",
    "            if len(array) != constant:\n",
    "                return False\n",
    "    except:\n",
    "        return False\n",
    "    return True # returns true if everything is the same, returns false otherwise\n",
    "\n",
    "def generate_from_array(TwoDMatrix, pixel=100): # generates the board using info stored in TwoDMatrix\n",
    "    if all_same(TwoDMatrix): # checks if everything is the same\n",
    "        height = len(TwoDMatrix) # sets height and length equal to various heights/widths\n",
    "        length = len(TwoDMatrix[0])\n",
    "        paste_img = Image.new('RGB',(pixel, pixel),(255, 255, 255)) # inits images\n",
    "        player_im = returnGoalAndRobot()[0] \n",
    "        goal_im = returnGoalAndRobot()[1]\n",
    "\n",
    "    else:\n",
    "        return Image.open(\"../images/err.png\") # error image\n",
    "    contact_sheet=PIL.Image.new('RGB', (pixel*length, pixel*height)) # creates a sheet using the length and height\n",
    "    box_Coord = [0, 0] # sets coordinates to draw images\n",
    "    for array in TwoDMatrix: # loops over the 2d matrix array (parameter)\n",
    "        for bin in array:\n",
    "            if bin == 1: # if the item is 1, that is a wall\n",
    "                contact_sheet.paste(paste_img, (box_Coord[0],  box_Coord[1]) )\n",
    "            elif bin == 2: # if the item is two (which there is only 1) that is the player\n",
    "                contact_sheet.paste(player_im, (box_Coord[0], box_Coord[1]))\n",
    "            elif bin == 3: # if the item is three (which there is only 1) that is the goal\n",
    "                contact_sheet.paste(goal_im, (box_Coord[0], box_Coord[1]))\n",
    "            else: # otherwise 0, pass\n",
    "                pass\n",
    "            if box_Coord[0] + pixel > contact_sheet.width-pixel: # if we go over bounds the image\n",
    "                box_Coord[0] = 0\n",
    "                box_Coord[1] += pixel # loop back\n",
    "            else: # otherwise advance\n",
    "                box_Coord[0] += pixel\n",
    "    return contact_sheet # return when finished\n",
    "\n",
    "def setup(): # consolidating setup for easy usage\n",
    "    grid = [[random.randint(0,1) for i in range(5)], \n",
    "    [random.randint(0,1) for i in range(5)], # create a random grid using list comprehensions\n",
    "    [random.randint(0,1) for i in range(5)],\n",
    "    [random.randint(0,1) for i in range(5)],\n",
    "    [random.randint(0,1) for i in range(5)]]\n",
    "    player_start = [random.randint(0,4), random.randint(0,4)] # find player start and stop\n",
    "    goal_start = [random.randint(0,4), random.randint(0,4)]\n",
    "    while goal_start == player_start: # contingency, make sure they aren't equal\n",
    "        goal_start = [random.randint(0,4), random.randint(0,4)]\n",
    "    grid[player_start[0]][player_start[1]] = 2\n",
    "    grid[goal_start[0]][goal_start[1]] = 3\n",
    "    return generate_from_array(grid) # return the generated array using grid\n",
    "\n",
    "for i in range(5): # do this 5 times, to display randomness\n",
    "    d = setup()\n",
    "    print(\"legend: Walls = black, spaces = white, goal = green, red triangle = player\")\n",
    "    display(d) # display the image\n",
    "\n"
   ]
  },
  {
   "attachments": {},
   "cell_type": "markdown",
   "metadata": {},
   "source": [
    "**I chose not to do the second extra credit.**"
   ]
  }
 ],
 "metadata": {
  "kernelspec": {
   "display_name": "Python 3",
   "language": "python",
   "name": "python3"
  },
  "language_info": {
   "codemirror_mode": {
    "name": "ipython",
    "version": 3
   },
   "file_extension": ".py",
   "mimetype": "text/x-python",
   "name": "python",
   "nbconvert_exporter": "python",
   "pygments_lexer": "ipython3",
   "version": "3.10.7 (v3.10.7:6cc6b13308, Sep  5 2022, 14:02:52) [Clang 13.0.0 (clang-1300.0.29.30)]"
  },
  "orig_nbformat": 4,
  "vscode": {
   "interpreter": {
    "hash": "aee8b7b246df8f9039afb4144a1f6fd8d2ca17a180786b69acc140d282b71a49"
   }
  }
 },
 "nbformat": 4,
 "nbformat_minor": 2
}
