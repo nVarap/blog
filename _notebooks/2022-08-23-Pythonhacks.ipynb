{
 "cells": [
  {
   "cell_type": "markdown",
   "metadata": {},
   "source": [
    "# Python Assignment Hacks\n",
    "> Hacks for python assignments\n",
    "- toc: true\n",
    "- comments: true\n",
    "- permalink: /Hacks/PythonHacks\n",
    "- categories: [Hacks]\n",
    "- image: images/pythonlogo.png"
   ]
  },
  {
   "cell_type": "markdown",
   "metadata": {},
   "source": [
    "### Hack 1\n",
    "Import ``quiz.py``\n",
    "run the program\n",
    "steps:\n",
    "- download the ``quiz.py`` file\n",
    "- cd to the file either through vscode or terminal\n",
    "- use ```python quiz.py```\n",
    "- input!"
   ]
  },
  {
   "cell_type": "markdown",
   "metadata": {},
   "source": [
    "![]({{site.baseurl}}/images/pythonHacks \"python Hacks screenshot\")"
   ]
  },
  {
   "cell_type": "markdown",
   "metadata": {},
   "source": [
    "# Hacks Pseudocode\n",
    "\n",
    "PROCEDURE qandresp (question)\n",
    "- DISPLAY question\n",
    "- answer <-- input \n",
    "- RETURN answer\n",
    "QandA <-- Dictionary(Questions and answers)\n",
    "\n",
    "correct <-- 0\n",
    "\n",
    "DISPLAY `welcome {user}`\n",
    "DISPLAY length QandA\n",
    "\n",
    "REPEAT for each key in QandA:\n",
    "- rsp <-- qandresp(key)\n",
    "- IF (rsp == QandA(key))\n",
    "    - DISPLAY correct\n",
    "        - correct <-- correct +1\n",
    "    - ELSE:\n",
    "        - DISPLAY wrong!\n",
    "\n",
    "percent <-- str(round(correct/QandA), 2) `2 is two decimal points`\n",
    "DISPLAY user, you scored str(correct) / str(len(QandA))\n",
    "DISPLAY percent"
   ]
  },
  {
   "cell_type": "code",
   "execution_count": 2,
   "metadata": {},
   "outputs": [
    {
     "name": "stdout",
     "output_type": "stream",
     "text": [
      "Hello, vn1. You are running on /usr/local/bin/python3\n",
      "Current number of questions 6\n",
      "What command is used to include other functions that were previously developed?\n",
      "Corret! Your answer was import\n",
      "What command is used to evaluate correct or incorrect response in this example?\n",
      "import is incorrect\n",
      "Each 'if' command contains an '_________' to determine a true or false condition?\n",
      "Corret! Your answer was expression\n",
      "What word means to assign a value to a variable\n",
      "Corret! Your answer was Define\n",
      "What keyword is used to output value from a function that is not print\n",
      "Corret! Your answer was return\n",
      "What function is used to typecast to type string (do not include parenthesis\n",
      "Corret! Your answer was str\n",
      "vn1 you scored 5/6\n",
      "This is 0.83%\n"
     ]
    }
   ],
   "source": [
    "import getpass, sys # import packages\n",
    "\n",
    "def qandresp(question): # enter question, return inputted answer\n",
    "    print(question)\n",
    "    answer = input()\n",
    "    return answer\n",
    "\n",
    "QandA = { # dictionary contains Q & A pairs\n",
    "    \"What command is used to include other functions that were previously developed?\" : \"import\",\n",
    "    \"What command is used to evaluate correct or incorrect response in this example?\" : \"if\",\n",
    "    \"Each 'if' command contains an '_________' to determine a true or false condition?\" : \"expression\",\n",
    "    \"What word means to assign a value to a variable\" : \"Define\",\n",
    "    \"What keyword is used to output value from a function that is not print\" : \"return\",\n",
    "    \"What function is used to typecast to type string (do not include parenthesis\" : \"str\"\n",
    "    \n",
    "}\n",
    "\n",
    "correct = 0 \n",
    "\n",
    "# Setup\n",
    "print(\"Hello, \"  + getpass.getuser() + \". You are running on \" + sys.executable)\n",
    "print(\"Current number of questions \" + str(len(QandA)))\n",
    "\n",
    "# iterate over each key\n",
    "for key in QandA:\n",
    "    rsp = qandresp(key)\n",
    "    if rsp == QandA[key]: # check if the response is equal to the answer\n",
    "        print(f\"Corret! Your answer was {rsp}\")\n",
    "        correct += 1\n",
    "    else:\n",
    "        print(f\"{rsp} is incorrect\") \n",
    "\n",
    "percent = str(round(correct/len(QandA), 2)) # calculate percentage (use len for future changes)\n",
    "\n",
    "print(getpass.getuser() + \" you scored \" + str(correct) +\"/\" + str(len(QandA)))\n",
    "print(f\"This is {percent}%\") # print score and percentage"
   ]
  },
  {
   "cell_type": "markdown",
   "metadata": {},
   "source": []
  }
 ],
 "metadata": {
  "kernelspec": {
   "display_name": "Python 3.10.5 64-bit",
   "language": "python",
   "name": "python3"
  },
  "language_info": {
   "codemirror_mode": {
    "name": "ipython",
    "version": 3
   },
   "file_extension": ".py",
   "mimetype": "text/x-python",
   "name": "python",
   "nbconvert_exporter": "python",
   "pygments_lexer": "ipython3",
   "version": "3.10.5"
  },
  "orig_nbformat": 4,
  "vscode": {
   "interpreter": {
    "hash": "aee8b7b246df8f9039afb4144a1f6fd8d2ca17a180786b69acc140d282b71a49"
   }
  }
 },
 "nbformat": 4,
 "nbformat_minor": 2
}
