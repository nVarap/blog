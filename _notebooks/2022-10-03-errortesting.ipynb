{
 "cells": [
  {
   "cell_type": "markdown",
   "metadata": {},
   "source": [
    "# Error Management Python Hacks\n",
    "> Error Management\n",
    "- toc: true\n",
    "- comments: true\n",
    "- permalink: /Hacks/BashOne\n",
    "- categories: [Hacks]\n",
    "- tags: [Week 7]\n",
    "- image: images/pythonlogo.png"
   ]
  },
  {
   "cell_type": "markdown",
   "metadata": {},
   "source": [
    "# Challenge\n",
    "\n",
    "This code segment is at a very early stage of implementation.\n",
    "- What are some ways to (user) error proof this code?\n",
    "- The code should be able to calculate the cost of the meal of the user\n",
    "\n",
    "Hint:\n",
    "- write a “single” test describing an expectation of the program of the program\n",
    "- test - input burger, expect output of burger price\n",
    "- run the test, which should fail because the program lacks that feature\n",
    "- write “just enough” code, the simplest possible, to make the test pass\n",
    "\n",
    "Then repeat this process until you get program working like you want it to work."
   ]
  },
  {
   "cell_type": "code",
   "execution_count": 20,
   "metadata": {},
   "outputs": [
    {
     "name": "stdout",
     "output_type": "stream",
     "text": [
      "Menu\n",
      "burger  $3.99\n",
      "fries  $1.99\n",
      "drink  $0.99\n",
      "['burger', 'item', 'drink']\n",
      "$4.98\n"
     ]
    }
   ],
   "source": [
    "menu =  {\"burger\": 3.99,\n",
    "         \"fries\": 1.99,\n",
    "         \"drink\": 0.99}\n",
    "total = 0\n",
    "\n",
    "#shows the user the menu and prompts them to select an item\n",
    "print(\"Menu\")\n",
    "for k,v in menu.items():\n",
    "    print(k + \"  $\" + str(v)) #why does v have \"str\" in front of it?\n",
    "\n",
    "#ideally the code should prompt the user multiple times\n",
    "items_list = []\n",
    "\n",
    "# First addition \n",
    "item = input(\"Please select an item from the menu, leave the entry blank to pass\").lower()\n",
    "while item != \"\": # while the enter blank to pass\n",
    "    items_list.append(item) # first append the item previously made\n",
    "    item = input(\"Please select an item from the menu, leave the entry blank to pass\").lower()\n",
    "    # reassign item\n",
    "\n",
    "\n",
    "full = 0 # set a full variable to aggregate\n",
    "\n",
    "for item in items_list:\n",
    "    if item in menu.keys(): # check if item is on the menu\n",
    "        full = full + menu[item] # add only if on the menu\n",
    "\n",
    "    \n",
    "\n",
    "#code should add the price of the menu items selected by the user \n",
    "print(items_list)\n",
    "print(f\"${full}\") # print full cost"
   ]
  },
  {
   "cell_type": "markdown",
   "metadata": {},
   "source": [
    "# Changes:\n",
    "> Created a while loop to allow for multiple entries.\n",
    "> Allowed for flexible entries and weeded out bad entries using a separate filter and aggregation system. \n",
    "> Set every item to lower to allow for capital letters\n",
    "> Added proper documentation"
   ]
  },
  {
   "cell_type": "markdown",
   "metadata": {},
   "source": [
    "# Hacks\n",
    "1. Errors such as user input may arise due to corner cases one could not plan for, there could be compilation errors or errors with the code running due to weird calculations\n",
    "2. One should always use corner cases and broad cases. Broader cases that you can easily calculate are good for preliminary testing, and the corner cases for more in-depth testing\n",
    "3. I encountered an error going out of index many times. Often this was just a misfire with pythons ``range`` function\n",
    "4. Single tests are corner cases such as loading up a blank sheet without a name, closing the tab without saving, or other corner cases."
   ]
  }
 ],
 "metadata": {
  "kernelspec": {
   "display_name": "Python 3.9.12 ('base')",
   "language": "python",
   "name": "python3"
  },
  "language_info": {
   "codemirror_mode": {
    "name": "ipython",
    "version": 3
   },
   "file_extension": ".py",
   "mimetype": "text/x-python",
   "name": "python",
   "nbconvert_exporter": "python",
   "pygments_lexer": "ipython3",
   "version": "3.9.12"
  },
  "orig_nbformat": 4,
  "vscode": {
   "interpreter": {
    "hash": "c7c94c0aed833a2414877ef23593eac2030861692aa72c9bb6e8e4336db6fc0c"
   }
  }
 },
 "nbformat": 4,
 "nbformat_minor": 2
}
