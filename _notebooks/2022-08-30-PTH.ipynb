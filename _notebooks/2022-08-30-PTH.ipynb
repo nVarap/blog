{
 "cells": [
  {
   "cell_type": "markdown",
   "metadata": {},
   "source": [
    "# Python List and Dictionaries \n",
    "> List and Dictionary hacks\n",
    "- toc: true\n",
    "- comments: true\n",
    "- permalink: /Hacks/PythonLAD\n",
    "- categories: [Hacks]\n",
    "- image: images/pythonlogo.png"
   ]
  },
  {
   "cell_type": "markdown",
   "metadata": {},
   "source": [
    "# Hacks One: \n",
    "### Add records to InfoDB"
   ]
  },
  {
   "cell_type": "code",
   "execution_count": 4,
   "metadata": {},
   "outputs": [
    {
     "name": "stdout",
     "output_type": "stream",
     "text": [
      "[{'FirstName': 'John', 'LastName': 'Mortensen', 'DOB': 'October 21', 'Residence': 'San Diego', 'Email': 'jmortensen@powayusd.com', 'Owns_Cars': ['2015-Fusion', '2011-Ranger', '2003-Excursion', '1997-F350', '1969-Cadillac']}, {'FirstName': 'Sunny', 'LastName': 'Naidu', 'DOB': 'August 2', 'Residence': 'Temecula', 'Email': 'snaidu@powayusd.com', 'Owns_Cars': ['4Runner']}, {'FirstName': 'Varalu', 'LastName': 'N', 'DOB': 'April 15', 'Residence': 'San Jose', 'Email': 'lcopebozo2@gmail.com', 'Owns_Cars': ['Lemon']}, {'FirstName': 'Chinmay', 'LastName': 'R', 'DOB': 'April 20', 'Residence': 'San Diego', 'Email': 'chinmay@gmail.com', 'Owns_Cars': ['Bugatti Chiron']}]\n"
     ]
    }
   ],
   "source": [
    "from distutils.log import info\n",
    "\n",
    "InfoDb = []\n",
    "\n",
    "InfoDb.append({\n",
    "    \"FirstName\": \"John\",\n",
    "    \"LastName\": \"Mortensen\",\n",
    "    \"DOB\": \"October 21\",\n",
    "    \"Residence\": \"San Diego\",\n",
    "    \"Email\": \"jmortensen@powayusd.com\",\n",
    "    \"Owns_Cars\": [\"2015-Fusion\", \"2011-Ranger\", \"2003-Excursion\", \"1997-F350\", \"1969-Cadillac\"]\n",
    "})\n",
    "\n",
    "# Append to List a 2nd Dictionary of key/values\n",
    "InfoDb.append({\n",
    "    \"FirstName\": \"Sunny\",\n",
    "    \"LastName\": \"Naidu\",\n",
    "    \"DOB\": \"August 2\",\n",
    "    \"Residence\": \"Temecula\",\n",
    "    \"Email\": \"snaidu@powayusd.com\",\n",
    "    \"Owns_Cars\": [\"4Runner\"]\n",
    "})\n",
    "\n",
    "InfoDb.append({\n",
    "    \"FirstName\": \"Varalu\",\n",
    "    \"LastName\": \"N\",\n",
    "    \"DOB\": \"April 15\",\n",
    "    \"Residence\": \"San Jose\",\n",
    "    \"Email\": \"lcopebozo2@gmail.com\",\n",
    "    \"Owns_Cars\": [\"Lemon\"]\n",
    "})\n",
    "\n",
    "InfoDb.append({\n",
    "    \"FirstName\": \"Chinmay\",\n",
    "    \"LastName\": \"R\",\n",
    "    \"DOB\": \"April 20\",\n",
    "    \"Residence\": \"San Diego\",\n",
    "    \"Email\": \"chinmay@gmail.com\",\n",
    "    \"Owns_Cars\": [\"Bugatti Chiron\"]\n",
    "})\n",
    "\n",
    "print(InfoDb)\n",
    "\n"
   ]
  },
  {
   "cell_type": "markdown",
   "metadata": {},
   "source": [
    "### Hack 2: Iterate through a dictionary and list\n",
    "\n",
    "Use a for loop to iterate through the list, and use another for loop in order to loop through the keys in the dictionary"
   ]
  },
  {
   "cell_type": "code",
   "execution_count": 6,
   "metadata": {},
   "outputs": [
    {
     "name": "stdout",
     "output_type": "stream",
     "text": [
      "{'FirstName': 'John', 'LastName': 'Mortensen', 'DOB': 'October 21', 'Residence': 'San Diego', 'Email': 'jmortensen@powayusd.com', 'Owns_Cars': ['2015-Fusion', '2011-Ranger', '2003-Excursion', '1997-F350', '1969-Cadillac']}\n",
      "FirstName\n",
      "John\n",
      "LastName\n",
      "Mortensen\n",
      "DOB\n",
      "October 21\n",
      "Residence\n",
      "San Diego\n",
      "Email\n",
      "jmortensen@powayusd.com\n",
      "Owns_Cars\n",
      "['2015-Fusion', '2011-Ranger', '2003-Excursion', '1997-F350', '1969-Cadillac']\n",
      "{'FirstName': 'Sunny', 'LastName': 'Naidu', 'DOB': 'August 2', 'Residence': 'Temecula', 'Email': 'snaidu@powayusd.com', 'Owns_Cars': ['4Runner']}\n",
      "FirstName\n",
      "Sunny\n",
      "LastName\n",
      "Naidu\n",
      "DOB\n",
      "August 2\n",
      "Residence\n",
      "Temecula\n",
      "Email\n",
      "snaidu@powayusd.com\n",
      "Owns_Cars\n",
      "['4Runner']\n",
      "{'FirstName': 'Varalu', 'LastName': 'N', 'DOB': 'April 15', 'Residence': 'San Jose', 'Email': 'lcopebozo2@gmail.com', 'Owns_Cars': ['Lemon']}\n",
      "FirstName\n",
      "Varalu\n",
      "LastName\n",
      "N\n",
      "DOB\n",
      "April 15\n",
      "Residence\n",
      "San Jose\n",
      "Email\n",
      "lcopebozo2@gmail.com\n",
      "Owns_Cars\n",
      "['Lemon']\n",
      "{'FirstName': 'Chinmay', 'LastName': 'R', 'DOB': 'April 20', 'Residence': 'San Diego', 'Email': 'chinmay@gmail.com', 'Owns_Cars': ['Bugatti Chiron']}\n",
      "FirstName\n",
      "Chinmay\n",
      "LastName\n",
      "R\n",
      "DOB\n",
      "April 20\n",
      "Residence\n",
      "San Diego\n",
      "Email\n",
      "chinmay@gmail.com\n",
      "Owns_Cars\n",
      "['Bugatti Chiron']\n"
     ]
    }
   ],
   "source": [
    "for elem in InfoDb: # iterate through list\n",
    "    print(elem)\n",
    "    for key in elem: # iterate through dictionaries in list\n",
    "        print(key) # print key\n",
    "        print(elem[key]) # print value"
   ]
  },
  {
   "cell_type": "markdown",
   "metadata": {},
   "source": [
    "### Hacks 3: Other Questions\n",
    "- Would it be possible to output data in a reverse order?\n",
    "- Are there other methods that can be performed on lists?\n",
    "- Could you create new or add to dictionary data set? Could you do it with input?\n",
    "- Make a quiz that stores in a List of Dictionaries."
   ]
  },
  {
   "cell_type": "markdown",
   "metadata": {},
   "source": [
    "#### Hacks 3.1:\n",
    "Yes, using reverse indexing `[-1]`. -1 Accesses the back of the list"
   ]
  },
  {
   "cell_type": "code",
   "execution_count": 9,
   "metadata": {},
   "outputs": [
    {
     "name": "stdout",
     "output_type": "stream",
     "text": [
      "{'FirstName': 'Chinmay', 'LastName': 'R', 'DOB': 'April 20', 'Residence': 'San Diego', 'Email': 'chinmay@gmail.com', 'Owns_Cars': ['Bugatti Chiron']}\n",
      "\n",
      "{'FirstName': 'Varalu', 'LastName': 'N', 'DOB': 'April 15', 'Residence': 'San Jose', 'Email': 'lcopebozo2@gmail.com', 'Owns_Cars': ['Lemon']}\n",
      "\n",
      "{'FirstName': 'Sunny', 'LastName': 'Naidu', 'DOB': 'August 2', 'Residence': 'Temecula', 'Email': 'snaidu@powayusd.com', 'Owns_Cars': ['4Runner']}\n",
      "\n",
      "{'FirstName': 'John', 'LastName': 'Mortensen', 'DOB': 'October 21', 'Residence': 'San Diego', 'Email': 'jmortensen@powayusd.com', 'Owns_Cars': ['2015-Fusion', '2011-Ranger', '2003-Excursion', '1997-F350', '1969-Cadillac']}\n",
      "\n"
     ]
    }
   ],
   "source": [
    "for i in range(len(InfoDb)):\n",
    "    print(InfoDb[-(i+1)]) # -0 is still the first index\n",
    "    print()"
   ]
  },
  {
   "cell_type": "markdown",
   "metadata": {},
   "source": [
    "#### Hacks 3.2\n",
    "Yes, there are a myriad of different list methods, i.e\n",
    "- pop\n",
    "- remove\n",
    "- sorted\n",
    "- sort\n",
    "- count\n",
    "- extend\n",
    "- reverse, etc.\n"
   ]
  },
  {
   "cell_type": "code",
   "execution_count": 13,
   "metadata": {},
   "outputs": [
    {
     "name": "stdout",
     "output_type": "stream",
     "text": [
      "[1, 2, 3, 4, 5, 6, 7]\n",
      "[1, 2, 3, 4, 5, 6]\n",
      "[1, 2, 4, 5, 6]\n",
      "[1, 2, 4, 212, 5, 6]\n",
      "[]\n"
     ]
    }
   ],
   "source": [
    "lst = [1,2,3,4,5,6]\n",
    "lst.append(7)\n",
    "print(lst)\n",
    "lst.pop()\n",
    "print(lst)\n",
    "lst.remove(3)\n",
    "print(lst)\n",
    "lst.insert(3, 212)\n",
    "print(lst)\n",
    "lst.clear()\n",
    "print(lst)\n"
   ]
  },
  {
   "cell_type": "markdown",
   "metadata": {},
   "source": [
    "#### Hacks 3.3\n",
    "You can add and create new keys to a dictionary using input, by assigning keys using:\n",
    "- dictkey[keyname] = key"
   ]
  },
  {
   "cell_type": "code",
   "execution_count": 1,
   "metadata": {},
   "outputs": [
    {
     "name": "stdout",
     "output_type": "stream",
     "text": [
      "{'g': 'u'}\n"
     ]
    }
   ],
   "source": [
    "dictionary = {}\n",
    "\n",
    "keyname = input(\"keyname\")\n",
    "keyval = input(\"keyval\")\n",
    "\n",
    "dictionary[keyname] = keyval\n",
    "\n",
    "print(dictionary)"
   ]
  },
  {
   "cell_type": "markdown",
   "metadata": {},
   "source": [
    "#### Hacks 3.4\n",
    "My previous quiz utilized dictionaries to store questions and answers. It would be easier to just use a dictionary, but one can use a list of dictionaries to store question/answers"
   ]
  },
  {
   "cell_type": "code",
   "execution_count": 7,
   "metadata": {},
   "outputs": [
    {
     "name": "stdout",
     "output_type": "stream",
     "text": [
      "Hello there\n",
      "General Kenobi is correct\n",
      "Never tell me\n",
      "The odds! is correct\n",
      "Who shot first?\n",
      "Greedo is incorrect here is some here's some feedback: According to lucas, in the first draft it was Han who shot first\n"
     ]
    }
   ],
   "source": [
    "listofds = [ { \"Question\": \"Hello there\",\n",
    "             \"Answer\": \"General Kenobi\",\n",
    "             \"Feedback\": \"Episode three\"},\n",
    "            { \"Question\": \"Never tell me\",\n",
    "             \"Answer\": \"The odds!\",\n",
    "             \"Feedback\": \"Episode 5\"},\n",
    "            {\"Question\": \"Who shot first?\",\n",
    "             \"Answer\": \"Han Solo\",\n",
    "             \"Feedback\" : \"According to lucas, in the first draft it was Han who shot first\"\n",
    "             }]\n",
    "\n",
    "def qanda(q):\n",
    "    print(q)\n",
    "    a = input(\"Answer: \")\n",
    "    return a\n",
    "\n",
    "for dict in listofds:\n",
    "    answer = qanda(dict[\"Question\"])\n",
    "    feedback = dict[\"Feedback\"]\n",
    "    if answer == dict[\"Answer\"]:\n",
    "        print(f\"{answer} is correct\")\n",
    "    else: \n",
    "        print(f\"{answer} is incorrect here is some here's some feedback: {feedback}\")\n",
    "\n",
    "\n"
   ]
  }
 ],
 "metadata": {
  "kernelspec": {
   "display_name": "Python 3.10.5 64-bit",
   "language": "python",
   "name": "python3"
  },
  "language_info": {
   "codemirror_mode": {
    "name": "ipython",
    "version": 3
   },
   "file_extension": ".py",
   "mimetype": "text/x-python",
   "name": "python",
   "nbconvert_exporter": "python",
   "pygments_lexer": "ipython3",
   "version": "3.10.5"
  },
  "orig_nbformat": 4,
  "vscode": {
   "interpreter": {
    "hash": "aee8b7b246df8f9039afb4144a1f6fd8d2ca17a180786b69acc140d282b71a49"
   }
  }
 },
 "nbformat": 4,
 "nbformat_minor": 2
}
